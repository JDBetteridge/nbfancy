{
 "cells": [
  {
   "cell_type": "markdown",
   "metadata": {},
   "source": [
    "Test colour schemes here"
   ]
  },
  {
   "cell_type": "markdown",
   "metadata": {},
   "source": [
    "<div class=\"w3-panel w3-leftbar w3-border-red w3-pale-red w3-padding-small\">\n",
    "    <h3 id=\"{index}\"><i class=\"fa fa-star\"></i> TITLE</h3>\n",
    "    BODY\n",
    "</div>"
   ]
  },
  {
   "cell_type": "markdown",
   "metadata": {},
   "source": [
    "<div class=\"w3-panel w3-leftbar w3-border-orange w3-sand w3-padding-small\">\n",
    "    <h3 id=\"{index}\"><i class=\"fa fa-star\"></i> TITLE</h3>\n",
    "    BODY\n",
    "</div>"
   ]
  },
  {
   "cell_type": "markdown",
   "metadata": {},
   "source": [
    "<div class=\"w3-panel w3-leftbar w3-border-yellow w3-pale-yellow w3-padding-small\">\n",
    "    <h3 id=\"{index}\"><i class=\"fa fa-star\"></i> TITLE</h3>\n",
    "    BODY\n",
    "</div>"
   ]
  },
  {
   "cell_type": "markdown",
   "metadata": {},
   "source": [
    "<div class=\"w3-panel w3-leftbar w3-border-green w3-pale-green w3-padding-small\">\n",
    "    <h3 id=\"{index}\"><i class=\"fa fa-star\"></i> TITLE</h3>\n",
    "    BODY\n",
    "</div>"
   ]
  },
  {
   "cell_type": "markdown",
   "metadata": {},
   "source": [
    "<div class=\"w3-panel w3-leftbar w3-border-blue w3-pale-blue w3-padding-small\">\n",
    "    <h3 id=\"{index}\"><i class=\"fa fa-star\"></i> TITLE</h3>\n",
    "    BODY\n",
    "</div>"
   ]
  },
  {
   "cell_type": "markdown",
   "metadata": {},
   "source": [
    "<div class=\"w3-panel w3-leftbar w3-border-purple w3-pale-red w3-padding-small\">\n",
    "    <h3 id=\"{index}\"><i class=\"fa fa-star\"></i> TITLE</h3>\n",
    "    BODY\n",
    "</div>"
   ]
  },
  {
   "cell_type": "markdown",
   "metadata": {},
   "source": [
    "<div class=\"w3-panel w3-leftbar w3-border-brown w3-khaki w3-padding-small\">\n",
    "    <h3 id=\"{index}\"><i class=\"fa fa-star\"></i> TITLE</h3>\n",
    "    BODY\n",
    "</div>"
   ]
  },
  {
   "cell_type": "markdown",
   "metadata": {},
   "source": [
    "<div class=\"w3-panel w3-leftbar w3-border-black w3-grey w3-padding-small\">\n",
    "    <h3 id=\"{index}\"><i class=\"fa fa-star\"></i> TITLE</h3>\n",
    "    BODY\n",
    "</div>"
   ]
  },
  {
   "cell_type": "markdown",
   "metadata": {},
   "source": [
    "<div class=\"w3-panel w3-leftbar w3-border-gray w3-light-gray w3-padding-small\">\n",
    "    <h3 id=\"{index}\"><i class=\"fa fa-star\"></i> TITLE</h3>\n",
    "    BODY\n",
    "</div>"
   ]
  },
  {
   "cell_type": "markdown",
   "metadata": {},
   "source": [
    "<div class=\"w3-panel w3-leftbar w3-border-white w3-white w3-padding-small\">\n",
    "    <h3 id=\"{index}\"><i class=\"fa fa-star\"></i> Title</h3>\n",
    "    BODY\n",
    "</div>"
   ]
  }
 ],
 "metadata": {
  "kernelspec": {
   "display_name": "Python 3",
   "language": "python",
   "name": "python3"
  },
  "language_info": {
   "codemirror_mode": {
    "name": "ipython",
    "version": 3
   },
   "file_extension": ".py",
   "mimetype": "text/x-python",
   "name": "python",
   "nbconvert_exporter": "python",
   "pygments_lexer": "ipython3",
   "version": "3.7.1"
  }
 },
 "nbformat": 4,
 "nbformat_minor": 2
}
