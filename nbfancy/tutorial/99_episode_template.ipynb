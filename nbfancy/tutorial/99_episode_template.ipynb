{
 "cells": [
  {
   "cell_type": "markdown",
   "metadata": {
    "slideshow": {
     "slide_type": "slide"
    }
   },
   "source": [
    "# Lesson Title"
   ]
  },
  {
   "cell_type": "markdown",
   "metadata": {
    "slideshow": {
     "slide_type": "subslide"
    }
   },
   "source": [
    "## Overview\n",
    "- **Teaching:** 30 min\n",
    "- **Exercises:** 10 min\n",
    "\n",
    "**Questions**\n",
    "- What?\n",
    "- Who?\n",
    "- How?\n",
    "\n",
    "**Objectives**\n",
    "- Learn\n",
    "- To\n",
    "- Code"
   ]
  },
  {
   "cell_type": "markdown",
   "metadata": {
    "slideshow": {
     "slide_type": "slide"
    }
   },
   "source": [
    "The lesson will start by looking in the working directory, using the command `pwd`. See below.."
   ]
  },
  {
   "cell_type": "code",
   "execution_count": 2,
   "metadata": {
    "slideshow": {
     "slide_type": "fragment"
    }
   },
   "outputs": [
    {
     "name": "stdout",
     "output_type": "stream",
     "text": [
      "/home/jack/Documents/JamesGrant/template_jupyter\r\n"
     ]
    }
   ],
   "source": [
    "!pwd"
   ]
  },
  {
   "cell_type": "markdown",
   "metadata": {
    "slideshow": {
     "slide_type": "slide"
    }
   },
   "source": [
    "## Information: Information\n",
    "Did you know?\n",
    "\n",
    "```c\n",
    "Does this work?\n",
    "Oh yeah, but you can see the solution...\n",
    "...aaaaand it's not a code block.\n",
    "```\n",
    "\n",
    "IMPORTANT: don't end a box with a codeblock"
   ]
  },
  {
   "cell_type": "markdown",
   "metadata": {
    "slideshow": {
     "slide_type": "slide"
    }
   },
   "source": [
    "## Exercise: The first exercise\n",
    "This is an exercise you should complete"
   ]
  },
  {
   "cell_type": "code",
   "execution_count": null,
   "metadata": {
    "slideshow": {
     "slide_type": "skip"
    }
   },
   "outputs": [],
   "source": [
    "# This is now a space where you could write your solution to the exercise"
   ]
  },
  {
   "cell_type": "markdown",
   "metadata": {
    "slideshow": {
     "slide_type": "slide"
    }
   },
   "source": [
    "## Solution: The first exercise\n",
    "- The solution to the problem is a secret and should be moved to another document\n",
    "- The problem with markup should be fixed\n",
    "- Such as `this` short `example`\n",
    "- The issue with a code block is gone...   ...but be sure to specify some syntax highlighting!\n",
    "\n",
    "```c\n",
    "Does this work?\n",
    "Oh yeah, but you can see the solution...\n",
    "...aaaaand it's not a code block.\n",
    "```\n",
    "\n",
    "IMPORTANT: don't end a box with a codeblock"
   ]
  },
  {
   "cell_type": "markdown",
   "metadata": {
    "slideshow": {
     "slide_type": "slide"
    }
   },
   "source": [
    "## Exercise: 2 `pwd` or something?\n",
    "Use `pwd`"
   ]
  },
  {
   "cell_type": "markdown",
   "metadata": {
    "slideshow": {
     "slide_type": "slide"
    }
   },
   "source": [
    "## Solution: 2 `pwd` or something?\n",
    "- Trivial\n",
    "\n",
    "Need to fill some space\n",
    "![](../images/test.svg)\n",
    "![](../images/test.svg)\n",
    "![](../images/test.svg)\n",
    "![](../images/test.svg)"
   ]
  },
  {
   "cell_type": "markdown",
   "metadata": {
    "slideshow": {
     "slide_type": "slide"
    }
   },
   "source": [
    "## Key Points\n",
    "- Key points occur at the end of a section\n",
    "- They appear in a bulleted list\n",
    "- Like this"
   ]
  }
 ],
 "metadata": {
  "celltoolbar": "Slideshow",
  "kernelspec": {
   "display_name": "Python 3",
   "language": "python",
   "name": "python3"
  },
  "language_info": {
   "codemirror_mode": {
    "name": "ipython",
    "version": 3
   },
   "file_extension": ".py",
   "mimetype": "text/x-python",
   "name": "python",
   "nbconvert_exporter": "python",
   "pygments_lexer": "ipython3",
   "version": "3.7.1"
  }
 },
 "nbformat": 4,
 "nbformat_minor": 2
}
