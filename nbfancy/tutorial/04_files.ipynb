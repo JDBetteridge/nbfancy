{
 "cells": [
  {
   "cell_type": "markdown",
   "metadata": {
    "slideshow": {
     "slide_type": "slide"
    }
   },
   "source": [
    "# Directory Structure"
   ]
  },
  {
   "cell_type": "markdown",
   "metadata": {
    "slideshow": {
     "slide_type": "subslide"
    }
   },
   "source": [
    "## Overview:\n",
    "- **Teaching:** 10 min\n",
    "- **Exercises:** 0 min\n",
    "\n",
    "**Questions**\n",
    "- What are all of the files created with `nbfancy init`?\n",
    "- Where do I put the notebooks that make up my lesson?\n",
    "- Where do I put my other files?\n",
    "\n",
    "**Objectives**\n",
    "- Understand the file structure for a lesson\n",
    "- Learn which files go in which directories"
   ]
  },
  {
   "cell_type": "markdown",
   "metadata": {
    "slideshow": {
     "slide_type": "slide"
    }
   },
   "source": [
    "## Directories\n",
    "\n",
    "`nbfancy` uses a directory structure to help organise your lessons.  As we have seen, by default the *source* notebooks for the lesson are contained in the folder, `nbplain`, rendered notebooks in `nbfancy` and published pages in `html`:"
   ]
  },
  {
   "cell_type": "code",
   "execution_count": 5,
   "metadata": {
    "slideshow": {
     "slide_type": "subslide"
    }
   },
   "outputs": [
    {
     "name": "stdout",
     "output_type": "stream",
     "text": [
      "code  config  data  html  images  nbfancy  nbplain\r\n"
     ]
    }
   ],
   "source": [
    "!ls example"
   ]
  },
  {
   "cell_type": "markdown",
   "metadata": {
    "slideshow": {
     "slide_type": "slide"
    }
   },
   "source": [
    "Additional directories, `code`, `config`, `data` and `images` are also created. \n",
    "\n",
    "- `code` should be used for source files that are required by your lesson, e.g. bespoke libraries or test files  \n",
    "- `config` contains files which control the decoration of your lesson\n",
    "- `data` any data that your students will work with\n",
    "- `images` and pictures or graphics that are not generated automatically\n",
    "\n",
    "By default only `config` has any contents."
   ]
  },
  {
   "cell_type": "markdown",
   "metadata": {
    "slideshow": {
     "slide_type": "slide"
    }
   },
   "source": [
    "## `nbplain`\n",
    "\n",
    "The default template contains three notebooks:"
   ]
  },
  {
   "cell_type": "code",
   "execution_count": 7,
   "metadata": {
    "slideshow": {
     "slide_type": "subslide"
    }
   },
   "outputs": [
    {
     "name": "stdout",
     "output_type": "stream",
     "text": [
      "00_schedule.ipynb  01_untitled_episode.ipynb  99_episode_template.ipynb\r\n"
     ]
    }
   ],
   "source": [
    "!ls example/nbplain"
   ]
  },
  {
   "cell_type": "markdown",
   "metadata": {
    "slideshow": {
     "slide_type": "subslide"
    }
   },
   "source": [
    "These are essentially standard notebooks with decoration determined as described in the [next lesson](05_environments.ipynb).  `00_schedule.ipynb` is used to provide a notional schedule for the course, allowing you to specify timings, epsiodes titles and a brief description.  The exact format and naming is not a prescription however and could be used as an `index`.  \n",
    "\n",
    "This is followed by notebooks for each of the *episodes* that make up your *lesson*.  If you have existing material you can copy the notebooks into the directory add keywords to decorate your lessons, and you should be alomst ready to build.  Otherwise this is where you will write all of your notebooks for the lesson.\n",
    "\n",
    "**NOTE The numbering is used to identify the order that you wish notebooks to appear in the rendered form, the next/previous links at the bottom of each rendered page use the list order, what you see with `ls`, for the navigation.**"
   ]
  },
  {
   "cell_type": "markdown",
   "metadata": {
    "slideshow": {
     "slide_type": "slide"
    }
   },
   "source": [
    "## config\n",
    "\n",
    "The `config` folder by default contains two notebooks, a header and footer which contain cells used to *brand* the lesson.  You can edit these notebooks as you would with any other as long as you preserve the number and order of the cells in each.\n",
    "\n",
    "Additional configurabilty is covered in [keywords](08_keywords.ipynb) and [template](09_template.ipynb)."
   ]
  },
  {
   "cell_type": "code",
   "execution_count": 6,
   "metadata": {
    "slideshow": {
     "slide_type": "subslide"
    }
   },
   "outputs": [
    {
     "name": "stdout",
     "output_type": "stream",
     "text": [
      "footer.ipynb  header.ipynb\r\n"
     ]
    }
   ],
   "source": [
    "!ls example/config"
   ]
  },
  {
   "cell_type": "markdown",
   "metadata": {
    "slideshow": {
     "slide_type": "slide"
    }
   },
   "source": [
    "## Key Points:\n",
    "- `nbfancy` uses a directory structure to oranise your lessons\n",
    "- By default `nbplain` is used for plain notebooks, `nbfancy` for decorated notebooks and `html` for published html.\n",
    "- `code`, `data` and `images` are used for dependencies of your lesson\n",
    "- `config` contains files used to modify the decoration of your lessons"
   ]
  }
 ],
 "metadata": {
  "celltoolbar": "Slideshow",
  "kernelspec": {
   "display_name": "Python 3",
   "language": "python",
   "name": "python3"
  },
  "language_info": {
   "codemirror_mode": {
    "name": "ipython",
    "version": 3
   },
   "file_extension": ".py",
   "mimetype": "text/x-python",
   "name": "python",
   "nbconvert_exporter": "python",
   "pygments_lexer": "ipython3",
   "version": "3.7.3"
  }
 },
 "nbformat": 4,
 "nbformat_minor": 2
}
