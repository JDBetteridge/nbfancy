{
 "cells": [
  {
   "cell_type": "markdown",
   "metadata": {
    "slideshow": {
     "slide_type": "slide"
    }
   },
   "source": [
    "# Template"
   ]
  },
  {
   "cell_type": "markdown",
   "metadata": {
    "slideshow": {
     "slide_type": "slide"
    }
   },
   "source": [
    "## Overview:\n",
    "- **Teaching:** 10 min\n",
    "- **Exercises:** 0 min\n",
    "\n",
    "**Questions**\n",
    "- How can I change the look of NBfancy cells?\n",
    "\n",
    "**Objectives**\n",
    "- Understand that a new style can be defined in a notebook"
   ]
  },
  {
   "cell_type": "markdown",
   "metadata": {
    "slideshow": {
     "slide_type": "slide"
    }
   },
   "source": [
    "If NBfancy is initialised with the flag `--extra_config` it will give the user access to two additional configuration files: `keywords.cfg` and `box.ipynb`. The file `keywords.cfg` is discussed in the previous section. The second file, `box.ipynb`, is a notebook which contains two cells, and allows the user to change the template that NBfancy uses for keyword cells when rendering notebooks."
   ]
  },
  {
   "cell_type": "code",
   "execution_count": 1,
   "metadata": {
    "slideshow": {
     "slide_type": "fragment"
    }
   },
   "outputs": [
    {
     "name": "stdout",
     "output_type": "stream",
     "text": [
      "box.ipynb  footer.ipynb  header.ipynb  keywords.cfg\r\n"
     ]
    }
   ],
   "source": [
    "!nbfancy init example2 --extra_conf\n",
    "!ls example2/config"
   ]
  },
  {
   "cell_type": "markdown",
   "metadata": {
    "slideshow": {
     "slide_type": "slide"
    }
   },
   "source": [
    "The first cell give a description of how you can modify the second and read:"
   ]
  },
  {
   "cell_type": "markdown",
   "metadata": {
    "slideshow": {
     "slide_type": "subslide"
    }
   },
   "source": [
    "You can replace the existing template by modifying the next cell. When the notebook is rendered the following will happen:\n",
    "\n",
    "1. The keyword does not need to appear in this template and will be automatically removed, unless specified in `default.cfg`.\n",
    "2. The colour `w3-green` will be substitued with the colour in `default.cfg`.\n",
    "3. The colour `w3-pale-green` will be substituted with the corresponding pale background colour.\n",
    "4. `{index}` is used internally, don't remove it or you will break things.\n",
    "5. The symbol `fa-star` will be substitued with the symbol in `default.cfg`.\n",
    "6. `TITLE` will be substituted with the marked up title which follows the colon after the keyword.\n",
    "7. `BODY` will be substituted with the marked up content of the cell after the first line.\n",
    "\n",
    "In the plain notebook, this markdown would generate the next cell:\n",
    "```markdown\n",
    "## Keyword: TITLE\n",
    "BODY\n",
    "```\n",
    "\n",
    "Note the spacing may not be exactly the same since the `TITLE` and `BODY` will have additional HTML tags added when marked up."
   ]
  },
  {
   "cell_type": "markdown",
   "metadata": {
    "slideshow": {
     "slide_type": "slide"
    }
   },
   "source": [
    "The second cell contains the HTML code seen below. You can modify to suit the new style you want to use."
   ]
  },
  {
   "cell_type": "code",
   "execution_count": 2,
   "metadata": {
    "slideshow": {
     "slide_type": "subslide"
    }
   },
   "outputs": [
    {
     "data": {
      "text/html": [
       "<div class=\"w3-panel w3-leftbar w3-border-green w3-pale-green w3-padding-small\">\n",
       "    <h3 id=\"{index}\"><i class=\"fa fa-star\"></i> TITLE</h3>\n",
       "    BODY\n",
       "</div>\n"
      ],
      "text/plain": [
       "<IPython.core.display.HTML object>"
      ]
     },
     "metadata": {},
     "output_type": "display_data"
    }
   ],
   "source": [
    "%%HTML\n",
    "<div class=\"w3-panel w3-leftbar w3-border-green w3-pale-green w3-padding-small\">\n",
    "    <h3 id=\"{index}\"><i class=\"fa fa-star\"></i> TITLE</h3>\n",
    "    BODY\n",
    "</div>"
   ]
  },
  {
   "cell_type": "markdown",
   "metadata": {
    "slideshow": {
     "slide_type": "slide"
    }
   },
   "source": [
    "## Header\n"
   ]
  },
  {
   "cell_type": "markdown",
   "metadata": {
    "slideshow": {
     "slide_type": "slide"
    }
   },
   "source": [
    "## Footer\n"
   ]
  },
  {
   "cell_type": "markdown",
   "metadata": {
    "slideshow": {
     "slide_type": "slide"
    }
   },
   "source": [
    "## Key Points:\n",
    "- The template that NBfancy uses can be modified by the user\n",
    "- The header and footer for the notebooks can also be changed"
   ]
  }
 ],
 "metadata": {
  "celltoolbar": "Slideshow",
  "kernelspec": {
   "display_name": "Python 3",
   "language": "python",
   "name": "python3"
  },
  "language_info": {
   "codemirror_mode": {
    "name": "ipython",
    "version": 3
   },
   "file_extension": ".py",
   "mimetype": "text/x-python",
   "name": "python",
   "nbconvert_exporter": "python",
   "pygments_lexer": "ipython3",
   "version": "3.7.3"
  }
 },
 "nbformat": 4,
 "nbformat_minor": 2
}
