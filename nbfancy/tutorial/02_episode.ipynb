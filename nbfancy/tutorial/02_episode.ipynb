{
 "cells": [
  {
   "cell_type": "markdown",
   "metadata": {
    "slideshow": {
     "slide_type": "slide"
    }
   },
   "source": [
    "# The Build System"
   ]
  },
  {
   "cell_type": "markdown",
   "metadata": {
    "slideshow": {
     "slide_type": "slide"
    }
   },
   "source": [
    "## Overview\n",
    "- **Teaching:** 15 min\n",
    "- **Exercises:** 0 min\n",
    "\n",
    "**Questions**\n",
    "- How do I get the build system?\n",
    "- What are the dependencies?\n",
    "- What are the main components of the build system?\n",
    "- How do you `make` lessons?\n",
    "\n",
    "**Objectives**\n",
    "- Be able to fork and clone the template repository\n",
    "- Understand the structure of lessons\n",
    "- Know how to create environment to build lessons\n",
    "- Know how to build lessons locally"
   ]
  },
  {
   "cell_type": "markdown",
   "metadata": {
    "slideshow": {
     "slide_type": "slide"
    }
   },
   "source": [
    "## Clone the template\n",
    "The template is currently available from arc-bath on [Github](https://github.com/arc-bath/template_jupyter).  While you can fork the repository if you want to contribute to the template tutorial or build system, we recommend that you duplicate the repository to your own account (for each lesson you create.  Once you have cloned you can copy (mirror) the repository to create a [duplicate](https://help.github.com/articles/duplicating-a-repository/) where you can develop your tutorial."
   ]
  },
  {
   "cell_type": "markdown",
   "metadata": {},
   "source": [
    "## Dependencies\n",
    "\n",
    "Currently the dependencies are a conda installation (Miniconda/Anaconda).  We would recommend using an environment to manage the build system as the dependencies may grow over time to accommodate increased functionality/standardisation:\n",
    "```bash\n",
    "% conda create -n arc-training-bs python=3.6 jupyter \n",
    "```\n",
    "Activate/deactivate the environment with \n",
    "```bash\n",
    "% source activate arc-training-bs\n",
    "(arc-training-bs) % source deactivate\n",
    "```\n",
    "\n",
    "Additionally the build system relies upon standard linux commands, e.g. `make`, `sed`.\n"
   ]
  },
  {
   "cell_type": "markdown",
   "metadata": {
    "slideshow": {
     "slide_type": "slide"
    }
   },
   "source": [
    "## Components\n",
    "The principle components of the build system are:\n",
    "\n",
    "- `images`\n",
    "- `notebooks_plain`\n",
    "- `tools`\n",
    "\n",
    "- `images` - unsurprisingly contains any images that you wish to use in the lesson either for branding or content.\n",
    "- `notebooks_plain` - contain the contents of the lesson and are edited by the user.  **N.B. Take care when editing to close notebooks when adding, committing to a repository and particularly (if using them) when you switch between branches.**  More detail on the different notebook files is given in the next episode.\n",
    "- `tools` - is the home of the python scripts and makefile that constitute the build system.  It also has scripts for generating `latex` and `bash` magic, as well as setting up the environment on you local machine."
   ]
  },
  {
   "cell_type": "markdown",
   "metadata": {},
   "source": [
    "## Build\n",
    "\n",
    "The build works in three stages:\n",
    "\n",
    "- `make render` creates rendered notebooks (from `notebooks_plain`) in `notebooks_rendered`\n",
    "- `make html` renders html in `html` from `notebooks-rendered`\n",
    "- `make pdf` renders pdfs in `pdf` from `html` (**Coming soon**)\n",
    "\n",
    "If necessary dependencies and all notebooks are valid .ipynb files these commands are all that is required to build your lesson."
   ]
  },
  {
   "cell_type": "markdown",
   "metadata": {
    "slideshow": {
     "slide_type": "slide"
    }
   },
   "source": [
    "## Key Points\n",
    "- The build system consists of the tools to build and render the content\n",
    "- The repository also contains the content of the lesson\n",
    "- The principle depedency is Jupyter and packages that can be maintained in a virtual environment.\n",
    "- The system first renders decorated notebooks->html(->pdf)."
   ]
  }
 ],
 "metadata": {
  "celltoolbar": "Slideshow",
  "kernelspec": {
   "display_name": "Python 3",
   "language": "python",
   "name": "python3"
  },
  "language_info": {
   "codemirror_mode": {
    "name": "ipython",
    "version": 3
   },
   "file_extension": ".py",
   "mimetype": "text/x-python",
   "name": "python",
   "nbconvert_exporter": "python",
   "pygments_lexer": "ipython3",
   "version": "3.6.6"
  }
 },
 "nbformat": 4,
 "nbformat_minor": 2
}
