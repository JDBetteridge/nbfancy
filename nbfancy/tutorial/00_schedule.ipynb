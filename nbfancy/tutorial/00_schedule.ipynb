{
 "cells": [
  {
   "cell_type": "markdown",
   "metadata": {
    "slideshow": {
     "slide_type": "slide"
    }
   },
   "source": [
    "# NBfancy Tutorial\n",
    "\n",
    "This tutorial explains how to use NBfancy to generate and build your own courses[.](slides/00_schedule.html)"
   ]
  },
  {
   "cell_type": "markdown",
   "metadata": {
    "slideshow": {
     "slide_type": "subslide"
    }
   },
   "source": [
    "The first half covers the core features:\n",
    "- Motivation for using NBfancy\n",
    "- Installation\n",
    "- Typical Build Process\n",
    "- File structure\n",
    "- Environments\n",
    "- Using git and remote builds"
   ]
  },
  {
   "cell_type": "markdown",
   "metadata": {
    "slideshow": {
     "slide_type": "subslide"
    }
   },
   "source": [
    "The second half covers more advanced use:\n",
    "- Multi-cell environments\n",
    "- Defining your own keywords\n",
    "- Making your own templates\n",
    "- Magic\n",
    "- Slides\n",
    "- Contributing"
   ]
  },
  {
   "cell_type": "markdown",
   "metadata": {
    "slideshow": {
     "slide_type": "slide"
    }
   },
   "source": [
    "## Prerequisites:\n",
    "\n",
    "To get the best out of NBfancy you should be comfortable using:\n",
    "\n",
    "- Jupyter notebooks\n",
    "- A python package manager such as `pip` or `conda`\n",
    "- The command line\n",
    "- Git\n",
    "\n",
    "\n",
    "The more advanced usage require slightly more in-depth knowledge of the above."
   ]
  },
  {
   "cell_type": "markdown",
   "metadata": {
    "slideshow": {
     "slide_type": "slide"
    }
   },
   "source": [
    "## Schedule:\n",
    "\n",
    "### Core features\n",
    "\n",
    "| Time | Episode | Description |\n",
    "|---|---|---|\n",
    "| 0:00 | [Motivation](01_motivation.ipynb) | Why use NBfancy? |\n",
    "| 0:10 | [Installation](02_installation.ipynb) | Install NBfancy |\n",
    "| 0:20 | [Build](03_build.ipynb) | A typical build process |\n",
    "| 0:30 | [File Structure](04_files.ipynb) | File structure for lessons |\n",
    "| 0:40 | [Environments](05_environments.ipynb) | Additional keywords |\n",
    "| 0:50 | [Git and CI](06_git.ipynb) | Automate hosted lessons |\n",
    "\n",
    "\n",
    "### Advanced topics\n",
    "\n",
    "| Time | Episode | Description |\n",
    "|---|---|---|\n",
    "| 1:00 | [Multicell](07_multicell.ipynb) | Multiple cell environments |\n",
    "| 1:10 | [Keywords](08_keywords.ipynb) | Defining keywords |\n",
    "| 1:20 | [Template](09_template.ipynb) | Defining templates |\n",
    "| 1:30 | [Magic](10_magic.ipynb) | Extra magic in NBfancy |\n",
    "| 1:40 | [Slides](11_slides.ipynb) | Presenting with NBfancy |\n",
    "| 1:50 | [Contributing](12_contributing.ipynb) | Contributing to NBfancy |"
   ]
  },
  {
   "cell_type": "markdown",
   "metadata": {
    "slideshow": {
     "slide_type": "slide"
    }
   },
   "source": [
    "## Setup:\n",
    "\n",
    "The setup for NBfancy is covered in [Installation](02_installation.ipynb)."
   ]
  }
 ],
 "metadata": {
  "celltoolbar": "Slideshow",
  "kernelspec": {
   "display_name": "Python 3",
   "language": "python",
   "name": "python3"
  },
  "language_info": {
   "codemirror_mode": {
    "name": "ipython",
    "version": 3
   },
   "file_extension": ".py",
   "mimetype": "text/x-python",
   "name": "python",
   "nbconvert_exporter": "python",
   "pygments_lexer": "ipython3",
   "version": "3.7.3"
  }
 },
 "nbformat": 4,
 "nbformat_minor": 2
}
