{
 "cells": [
  {
   "cell_type": "markdown",
   "metadata": {
    "slideshow": {
     "slide_type": "slide"
    }
   },
   "source": [
    "# Template Tutorial\n",
    "\n",
    "This tutorial explain how to use the template to generate and build epsiodes for your own courses  It covers:\n",
    "* Using the build system\n",
    "* Structure of episodes \n",
    "* Other important files\n",
    "* Features\n",
    "* How to set up remote build and deployment\n",
    "* **How to update build system**"
   ]
  },
  {
   "cell_type": "markdown",
   "metadata": {
    "slideshow": {
     "slide_type": "slide"
    }
   },
   "source": [
    "## Prerequisites\n",
    "\n",
    "In order to complete the tutorial and use the build system you should be familar with:\n",
    "* The linux command line\n",
    "* Using Git\n",
    "* Jupyter Notebooks and the conda package manager"
   ]
  },
  {
   "cell_type": "markdown",
   "metadata": {
    "slideshow": {
     "slide_type": "slide"
    }
   },
   "source": [
    "## Schedule\n",
    "Approximate timings for the lesson: (<-- strange bug dont remove line of text here ???)\n",
    "\n",
    "| Time | Episode | Description |\n",
    "|---|---|---|\n",
    "| 0:00 | [Introduction](./01_episode.ipynb) | Introduction |\n",
    "| 0:15 | [The build system](./02_episode.ipynb) | Overview: Why not just notebooks? |\n",
    "| 0:30 | [Structure of Episodes](./03_episode.ipynb) | Episodes and Locations |\n",
    "| 0:45 | [Other Important Files](./04_episode.ipynb) | Other files required for build |\n",
    "| 1:00 | [Features of build](./05_episode.ipynb) | Features for prettying and highlighting |\n",
    "| 1:15 | [Remote builds](./06_episode.ipynb) | Build html and deploy to github |\n",
    "| 1:30 | [Update build system](./07_episode.ipynb) | Incoporate new features from development line |"
   ]
  },
  {
   "cell_type": "markdown",
   "metadata": {
    "slideshow": {
     "slide_type": "subslide"
    }
   },
   "source": [
    "Terms and conditions may apply, instuctors may go too fast, wheels might fall off etc, etc..."
   ]
  },
  {
   "cell_type": "markdown",
   "metadata": {
    "slideshow": {
     "slide_type": "slide"
    }
   },
   "source": [
    "## Setup\n",
    "\n",
    "In this lesson all set-up will be covered in episodes."
   ]
  }
 ],
 "metadata": {
  "celltoolbar": "Slideshow",
  "kernelspec": {
   "display_name": "Python 3",
   "language": "python",
   "name": "python3"
  },
  "language_info": {
   "codemirror_mode": {
    "name": "ipython",
    "version": 3
   },
   "file_extension": ".py",
   "mimetype": "text/x-python",
   "name": "python",
   "nbconvert_exporter": "python",
   "pygments_lexer": "ipython3",
   "version": "3.6.6"
  }
 },
 "nbformat": 4,
 "nbformat_minor": 2
}
