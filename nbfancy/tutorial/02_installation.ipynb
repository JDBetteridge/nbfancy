{
 "cells": [
  {
   "cell_type": "markdown",
   "metadata": {
    "slideshow": {
     "slide_type": "slide"
    }
   },
   "source": [
    "# Installation"
   ]
  },
  {
   "cell_type": "markdown",
   "metadata": {
    "slideshow": {
     "slide_type": "subslide"
    }
   },
   "source": [
    "## Overview:\n",
    "- **Teaching:** 10 min\n",
    "- **Exercises:** 0 min\n",
    "\n",
    "**Questions**\n",
    "- How do I install NBfancy?\n",
    "- How do I configure NBfancy for first use?\n",
    "\n",
    "**Objectives**\n",
    "- Know how to install NBfancy!"
   ]
  },
  {
   "cell_type": "markdown",
   "metadata": {
    "slideshow": {
     "slide_type": "slide"
    }
   },
   "source": [
    "## Information: Virtual environments\n",
    "We recommend that you install NBfancy in a virtual environment.\n",
    "You can do this with Python [venvs](https://docs.python.org/3/library/venv.html) or [(Ana)conda](https://docs.conda.io/projects/conda/en/latest/user-guide/tasks/manage-environments.html).\n",
    "Be sure to activate the virtual environment before carrying out the installation."
   ]
  },
  {
   "cell_type": "markdown",
   "metadata": {
    "slideshow": {
     "slide_type": "slide"
    }
   },
   "source": [
    "## Install\n",
    "\n",
    "NBfancy is available in the Python Package index (PyPI), and can be installed using the command `pip` as follows"
   ]
  },
  {
   "cell_type": "code",
   "execution_count": 1,
   "metadata": {
    "scrolled": true,
    "slideshow": {
     "slide_type": "subslide"
    }
   },
   "outputs": [
    {
     "name": "stdout",
     "output_type": "stream",
     "text": [
      "Requirement already satisfied: nbfancy in /home/jack/Documents/James_Grant/nbfancy (0.1.dev2)\n",
      "Requirement already satisfied: ipython>=6 in /home/jack/Documents/James_Grant/fancy_test/lib/python3.7/site-packages (from nbfancy) (7.4.0)\n",
      "Requirement already satisfied: jupyter in /home/jack/Documents/James_Grant/fancy_test/lib/python3.7/site-packages (from nbfancy) (1.0.0)\n",
      "Requirement already satisfied: pickleshare in /home/jack/Documents/James_Grant/fancy_test/lib/python3.7/site-packages (from ipython>=6->nbfancy) (0.7.5)\n",
      "Requirement already satisfied: pexpect; sys_platform != \"win32\" in /home/jack/Documents/James_Grant/fancy_test/lib/python3.7/site-packages (from ipython>=6->nbfancy) (4.7.0)\n",
      "Requirement already satisfied: backcall in /home/jack/Documents/James_Grant/fancy_test/lib/python3.7/site-packages (from ipython>=6->nbfancy) (0.1.0)\n",
      "Requirement already satisfied: traitlets>=4.2 in /home/jack/Documents/James_Grant/fancy_test/lib/python3.7/site-packages (from ipython>=6->nbfancy) (4.3.2)\n",
      "Requirement already satisfied: pygments in /home/jack/Documents/James_Grant/fancy_test/lib/python3.7/site-packages (from ipython>=6->nbfancy) (2.3.1)\n",
      "Requirement already satisfied: prompt-toolkit<2.1.0,>=2.0.0 in /home/jack/Documents/James_Grant/fancy_test/lib/python3.7/site-packages (from ipython>=6->nbfancy) (2.0.9)\n",
      "Requirement already satisfied: jedi>=0.10 in /home/jack/Documents/James_Grant/fancy_test/lib/python3.7/site-packages (from ipython>=6->nbfancy) (0.13.3)\n",
      "Requirement already satisfied: setuptools>=18.5 in /home/jack/Documents/James_Grant/fancy_test/lib/python3.7/site-packages (from ipython>=6->nbfancy) (41.0.0)\n",
      "Requirement already satisfied: decorator in /home/jack/Documents/James_Grant/fancy_test/lib/python3.7/site-packages (from ipython>=6->nbfancy) (4.4.0)\n",
      "Requirement already satisfied: notebook in /home/jack/Documents/James_Grant/fancy_test/lib/python3.7/site-packages (from jupyter->nbfancy) (5.7.8)\n",
      "Requirement already satisfied: nbconvert in /home/jack/Documents/James_Grant/fancy_test/lib/python3.7/site-packages (from jupyter->nbfancy) (5.4.1)\n",
      "Requirement already satisfied: jupyter-console in /home/jack/Documents/James_Grant/fancy_test/lib/python3.7/site-packages (from jupyter->nbfancy) (6.0.0)\n",
      "Requirement already satisfied: ipywidgets in /home/jack/Documents/James_Grant/fancy_test/lib/python3.7/site-packages (from jupyter->nbfancy) (7.4.2)\n",
      "Requirement already satisfied: qtconsole in /home/jack/Documents/James_Grant/fancy_test/lib/python3.7/site-packages (from jupyter->nbfancy) (4.4.3)\n",
      "Requirement already satisfied: ipykernel in /home/jack/Documents/James_Grant/fancy_test/lib/python3.7/site-packages (from jupyter->nbfancy) (5.1.0)\n",
      "Requirement already satisfied: ptyprocess>=0.5 in /home/jack/Documents/James_Grant/fancy_test/lib/python3.7/site-packages (from pexpect; sys_platform != \"win32\"->ipython>=6->nbfancy) (0.6.0)\n",
      "Requirement already satisfied: ipython-genutils in /home/jack/Documents/James_Grant/fancy_test/lib/python3.7/site-packages (from traitlets>=4.2->ipython>=6->nbfancy) (0.2.0)\n",
      "Requirement already satisfied: six in /home/jack/Documents/James_Grant/fancy_test/lib/python3.7/site-packages (from traitlets>=4.2->ipython>=6->nbfancy) (1.12.0)\n",
      "Requirement already satisfied: wcwidth in /home/jack/Documents/James_Grant/fancy_test/lib/python3.7/site-packages (from prompt-toolkit<2.1.0,>=2.0.0->ipython>=6->nbfancy) (0.1.7)\n",
      "Requirement already satisfied: parso>=0.3.0 in /home/jack/Documents/James_Grant/fancy_test/lib/python3.7/site-packages (from jedi>=0.10->ipython>=6->nbfancy) (0.4.0)\n",
      "Requirement already satisfied: jinja2 in /home/jack/Documents/James_Grant/fancy_test/lib/python3.7/site-packages (from notebook->jupyter->nbfancy) (2.10.1)\n",
      "Requirement already satisfied: nbformat in /home/jack/Documents/James_Grant/fancy_test/lib/python3.7/site-packages (from notebook->jupyter->nbfancy) (4.4.0)\n",
      "Requirement already satisfied: pyzmq>=17 in /home/jack/Documents/James_Grant/fancy_test/lib/python3.7/site-packages (from notebook->jupyter->nbfancy) (18.0.1)\n",
      "Requirement already satisfied: Send2Trash in /home/jack/Documents/James_Grant/fancy_test/lib/python3.7/site-packages (from notebook->jupyter->nbfancy) (1.5.0)\n",
      "Requirement already satisfied: prometheus-client in /home/jack/Documents/James_Grant/fancy_test/lib/python3.7/site-packages (from notebook->jupyter->nbfancy) (0.6.0)\n",
      "Requirement already satisfied: terminado>=0.8.1 in /home/jack/Documents/James_Grant/fancy_test/lib/python3.7/site-packages (from notebook->jupyter->nbfancy) (0.8.2)\n",
      "Requirement already satisfied: jupyter-core>=4.4.0 in /home/jack/Documents/James_Grant/fancy_test/lib/python3.7/site-packages (from notebook->jupyter->nbfancy) (4.4.0)\n",
      "Requirement already satisfied: tornado<7,>=4.1 in /home/jack/Documents/James_Grant/fancy_test/lib/python3.7/site-packages (from notebook->jupyter->nbfancy) (5.1.1)\n",
      "Requirement already satisfied: jupyter-client>=5.2.0 in /home/jack/Documents/James_Grant/fancy_test/lib/python3.7/site-packages (from notebook->jupyter->nbfancy) (5.2.4)\n",
      "Requirement already satisfied: pandocfilters>=1.4.1 in /home/jack/Documents/James_Grant/fancy_test/lib/python3.7/site-packages (from nbconvert->jupyter->nbfancy) (1.4.2)\n",
      "Requirement already satisfied: entrypoints>=0.2.2 in /home/jack/Documents/James_Grant/fancy_test/lib/python3.7/site-packages (from nbconvert->jupyter->nbfancy) (0.3)\n",
      "Requirement already satisfied: defusedxml in /home/jack/Documents/James_Grant/fancy_test/lib/python3.7/site-packages (from nbconvert->jupyter->nbfancy) (0.6.0)\n",
      "Requirement already satisfied: testpath in /home/jack/Documents/James_Grant/fancy_test/lib/python3.7/site-packages (from nbconvert->jupyter->nbfancy) (0.4.2)\n",
      "Requirement already satisfied: mistune>=0.8.1 in /home/jack/Documents/James_Grant/fancy_test/lib/python3.7/site-packages (from nbconvert->jupyter->nbfancy) (0.8.4)\n",
      "Requirement already satisfied: bleach in /home/jack/Documents/James_Grant/fancy_test/lib/python3.7/site-packages (from nbconvert->jupyter->nbfancy) (3.1.0)\n",
      "Requirement already satisfied: widgetsnbextension~=3.4.0 in /home/jack/Documents/James_Grant/fancy_test/lib/python3.7/site-packages (from ipywidgets->jupyter->nbfancy) (3.4.2)\n",
      "Requirement already satisfied: MarkupSafe>=0.23 in /home/jack/Documents/James_Grant/fancy_test/lib/python3.7/site-packages (from jinja2->notebook->jupyter->nbfancy) (1.1.1)\n",
      "Requirement already satisfied: jsonschema!=2.5.0,>=2.4 in /home/jack/Documents/James_Grant/fancy_test/lib/python3.7/site-packages (from nbformat->notebook->jupyter->nbfancy) (3.0.1)\n",
      "Requirement already satisfied: python-dateutil>=2.1 in /home/jack/Documents/James_Grant/fancy_test/lib/python3.7/site-packages (from jupyter-client>=5.2.0->notebook->jupyter->nbfancy) (2.8.0)\n",
      "Requirement already satisfied: webencodings in /home/jack/Documents/James_Grant/fancy_test/lib/python3.7/site-packages (from bleach->nbconvert->jupyter->nbfancy) (0.5.1)\n",
      "Requirement already satisfied: attrs>=17.4.0 in /home/jack/Documents/James_Grant/fancy_test/lib/python3.7/site-packages (from jsonschema!=2.5.0,>=2.4->nbformat->notebook->jupyter->nbfancy) (19.1.0)\n",
      "Requirement already satisfied: pyrsistent>=0.14.0 in /home/jack/Documents/James_Grant/fancy_test/lib/python3.7/site-packages (from jsonschema!=2.5.0,>=2.4->nbformat->notebook->jupyter->nbfancy) (0.14.11)\n",
      "\u001b[33mYou are using pip version 10.0.1, however version 19.1 is available.\n",
      "You should consider upgrading via the 'pip install --upgrade pip' command.\u001b[0m\n",
      "Note: you may need to restart the kernel to use updated packages.\n"
     ]
    }
   ],
   "source": [
    "pip install nbfancy"
   ]
  },
  {
   "cell_type": "markdown",
   "metadata": {
    "slideshow": {
     "slide_type": "slide"
    }
   },
   "source": [
    "## Configure\n",
    "\n",
    "In order to view the rendered material *in a notebook* you must add a custom CSS file to your Jupyter global config.\n",
    "This step is not necessary if you only want to build HTML documents.\n",
    "\n",
    "To add the custom CSS, you can use NBfancy's configure command, and it will add the file `custom.css` to the correct directory."
   ]
  },
  {
   "cell_type": "code",
   "execution_count": 5,
   "metadata": {
    "slideshow": {
     "slide_type": "subslide"
    }
   },
   "outputs": [
    {
     "name": "stdout",
     "output_type": "stream",
     "text": [
      "ERROR: You already have a directory named\r\n",
      "/home/jack/.jupyter/custom/css\r\n",
      "Remove or rename and try again.\r\n",
      "Install will continue, on the assumption that these files are left over from a previous build.\r\n",
      "Your global config has been updated\r\n"
     ]
    }
   ],
   "source": [
    "!nbfancy configure -y jupyter_css"
   ]
  },
  {
   "cell_type": "markdown",
   "metadata": {
    "slideshow": {
     "slide_type": "slide"
    }
   },
   "source": [
    "## Information: Executing at the command line in notebooks\n",
    "You may not have seen `!` commands in a notebook before. This allows the command that follows to be run at the command line, rather than by the notebook kernel. The `pip` command above uses notebook magic for the Python kernel to allow it to be executed without the `!`. For NBfancy commands to be executed at the command line, we need the `!`."
   ]
  },
  {
   "cell_type": "markdown",
   "metadata": {
    "slideshow": {
     "slide_type": "slide"
    }
   },
   "source": [
    "## Key Points:\n",
    "- NBfancy is available using the Python package manager `pip`\n",
    "- To view rendered material as a notebook, an additional configuration step is required"
   ]
  }
 ],
 "metadata": {
  "celltoolbar": "Slideshow",
  "kernelspec": {
   "display_name": "Python 3",
   "language": "python",
   "name": "python3"
  },
  "language_info": {
   "codemirror_mode": {
    "name": "ipython",
    "version": 3
   },
   "file_extension": ".py",
   "mimetype": "text/x-python",
   "name": "python",
   "nbconvert_exporter": "python",
   "pygments_lexer": "ipython3",
   "version": "3.7.3"
  }
 },
 "nbformat": 4,
 "nbformat_minor": 2
}
