{
 "cells": [
  {
   "cell_type": "markdown",
   "metadata": {
    "slideshow": {
     "slide_type": "slide"
    }
   },
   "source": [
    "# Other Important Files"
   ]
  },
  {
   "cell_type": "markdown",
   "metadata": {
    "slideshow": {
     "slide_type": "slide"
    }
   },
   "source": [
    "## Overview\n",
    "- **Teaching:** 15 min\n",
    "- **Exercises:** 0 min\n",
    "\n",
    "**Questions**\n",
    "- What other files?\n",
    "\n",
    "**Objectives**\n",
    "- Know that additional files are used to define a consistent appearance.\n",
    "- Understand how top and bottom banners can be used to brand training/teaching material.\n",
    "- Know that README.md in the root of the repository is converted to `index.html` in the html build."
   ]
  },
  {
   "cell_type": "markdown",
   "metadata": {
    "slideshow": {
     "slide_type": "slide"
    }
   },
   "source": [
    "## Banners\n",
    "    In addition to the episodes a number of files are used to provide a consistent format (branding) for the lesson.  Key in these are `top.ipynb` and `bottom.ipynb`, currently found in the `tools` directory.  Unfortunately we have not yet identified tno to avoid users having to use `html` at this stage.  It is probably worth explaining here that while `markdown` is in its plain form a stripped back human readable mark-up language, it is apparently a superset of `html`, meaning that all valid `html` is also valid `markdown`.  The key words we have used decorate cells with `html` when the rendered notebooks are created."
   ]
  },
  {
   "cell_type": "markdown",
   "metadata": {
    "slideshow": {
     "slide_type": "slide"
    }
   },
   "source": [
    "The top banner consists of a single cell:\n",
    "```html\n",
    "<div class=\"w3-bar w3-padding\" style=\"background-color:#3b93a6\">\n",
    "<div class=\"w3-bar-item\"><h2> ARC Training </h2></div>\n",
    "<div class=\"w3-bar-item w3-right\"><img class=\"w3-image w3-right\" style=\"width:40%;max-width:400px\" src=\"../images/uob-logo-white-transparent.png\"></div>\n",
    "</div>\n",
    "```\n",
    "which appears as:"
   ]
  },
  {
   "cell_type": "markdown",
   "metadata": {
    "slideshow": {
     "slide_type": "slide"
    }
   },
   "source": [
    "<div class=\"w3-bar w3-padding\" style=\"background-color:#3b93a6\">\n",
    "<div class=\"w3-bar-item\"><h2> ARC Training </h2></div>\n",
    "<div class=\"w3-bar-item w3-right\"><img class=\"w3-image w3-right\" style=\"width:40%;max-width:400px\" src=\"../images/uob-logo-white-transparent.png\"></div>\n",
    "</div>"
   ]
  },
  {
   "cell_type": "markdown",
   "metadata": {
    "slideshow": {
     "slide_type": "slide"
    }
   },
   "source": [
    "You can customise:\n",
    "- The background color of the highlighted cell, here we use University of Bath Research blue-grey\n",
    "- The Title or branding of the course, here we brand with ARC, this could equally be the title of the course/lesson.\n",
    "- And the logo.\n",
    "\n",
    "Or you can go completely freestyle and change it completely."
   ]
  },
  {
   "cell_type": "markdown",
   "metadata": {
    "slideshow": {
     "slide_type": "slide"
    }
   },
   "source": [
    "The bottom banner is also a single cell:\n",
    "```html\n",
    "<div class=\"w3-bar\" style=\"background-color:#3b93a6\">\n",
    "<a href=\"{previous}\" class=\"w3-bar-item w3-button\"><h2><i class=\"fa fa-angle-double-left\"></i> Previous</h2></a>\n",
    "<a href=\"{index}\" class=\"w3-bar-item w3-button w3-center\" style=\"width:60%\"><h2>Schedule</h2></a>\n",
    "<a href=\"{next}\" class=\"w3-bar-item w3-button w3-right\"><h2>Next <i class=\"fa fa-angle-double-right\"></i></h2></a>\n",
    "</div>\n",
    "```\n",
    "which appears as:"
   ]
  },
  {
   "cell_type": "markdown",
   "metadata": {
    "slideshow": {
     "slide_type": "slide"
    }
   },
   "source": [
    "<div class=\"w3-bar\" style=\"background-color:#3b93a6\">\n",
    "<a href=\"{previous}\" class=\"w3-bar-item w3-button\"><h2><i class=\"fa fa-angle-double-left\"></i> Previous</h2></a>\n",
    "<a href=\"{index}\" class=\"w3-bar-item w3-button w3-center\" style=\"width:60%\"><h2>Schedule</h2></a>\n",
    "<a href=\"{next}\" class=\"w3-bar-item w3-button w3-right\"><h2>Next <i class=\"fa fa-angle-double-right\"></i></h2></a>\n",
    "</div>"
   ]
  },
  {
   "cell_type": "markdown",
   "metadata": {
    "slideshow": {
     "slide_type": "slide"
    }
   },
   "source": [
    "Here the {previous}, {index} (schedule) and {next} links are assigned when the notebooks are rendered.  You may want to change this but the build system currently expects to be able to assign these links during the build so significant changes may prevent a correct build.\n",
    "**N.B. that in both these cases the cell appear in the *plain* notebook as they do in *rendered* form.  This is markdown at work, not the build system.**  The build system makes use of this feature of markdown when it renders the plain notebooks and generates the correct links, which do not yet work above."
   ]
  },
  {
   "cell_type": "markdown",
   "metadata": {
    "slideshow": {
     "slide_type": "slide"
    }
   },
   "source": [
    "## Readme\n",
    "The README.md forms an essential part of any well maintained repository, and we feel should be included in the html rendering.  Also since `00_schedule.*` is not `index` when the `html` is built, you can't just link to the root directory of the gh-pages or hosting directory because there is no `index.html` for the browser to hit.  So we render the `README.md` to `index.html` in the `html` build directory and add a link to the first page, `00_scehdule.html`, proper of the lesson."
   ]
  },
  {
   "cell_type": "markdown",
   "metadata": {
    "slideshow": {
     "slide_type": "slide"
    }
   },
   "source": [
    "## Key Points\n",
    "- top and bottom are used to decorate the schedule and episodes to provide a consistent appearance.\n",
    "- Your README.md describing the project will be used as an index for the html so as always keep it up to date and informative."
   ]
  }
 ],
 "metadata": {
  "celltoolbar": "Slideshow",
  "kernelspec": {
   "display_name": "Python 3",
   "language": "python",
   "name": "python3"
  },
  "language_info": {
   "codemirror_mode": {
    "name": "ipython",
    "version": 3
   },
   "file_extension": ".py",
   "mimetype": "text/x-python",
   "name": "python",
   "nbconvert_exporter": "python",
   "pygments_lexer": "ipython3",
   "version": "3.6.6"
  }
 },
 "nbformat": 4,
 "nbformat_minor": 2
}
