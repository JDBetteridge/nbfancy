{
 "cells": [
  {
   "cell_type": "markdown",
   "metadata": {
    "slideshow": {
     "slide_type": "slide"
    }
   },
   "source": [
    "# Keywords"
   ]
  },
  {
   "cell_type": "markdown",
   "metadata": {
    "slideshow": {
     "slide_type": "slide"
    }
   },
   "source": [
    "## Overview:\n",
    "- **Teaching:** 10 min\n",
    "- **Exercises:** 0 min\n",
    "\n",
    "**Questions**\n",
    "- How can I define my own keywords?\n",
    "\n",
    "**Objectives**\n",
    "- Learn how to make a new type of environment"
   ]
  },
  {
   "cell_type": "markdown",
   "metadata": {
    "slideshow": {
     "slide_type": "slide"
    }
   },
   "source": [
    "If NBfancy is initialised with the flag `--extra_config` it will give the user access to two additional configuration files: `keywords.cfg` and `box.ipynb`. The first of these, `keywords.cfg`, can be used to modify the behaviour of existing keywords and allows the user to define their own keywords. The notebook file called \"box\" is discussed in the next section."
   ]
  },
  {
   "cell_type": "code",
   "execution_count": 4,
   "metadata": {
    "slideshow": {
     "slide_type": "fragment"
    }
   },
   "outputs": [
    {
     "name": "stdout",
     "output_type": "stream",
     "text": [
      "box.ipynb  footer.ipynb  header.ipynb  keywords.cfg\r\n"
     ]
    }
   ],
   "source": [
    "!nbfancy init example2 --extra_conf\n",
    "!ls example2/config"
   ]
  },
  {
   "cell_type": "markdown",
   "metadata": {
    "slideshow": {
     "slide_type": "slide"
    }
   },
   "source": [
    "The configuration file itself is a CSV file, which defines the behaviour of the underlying keywords. If this file is present and different to the internal configuration, it will be used instead."
   ]
  },
  {
   "cell_type": "code",
   "execution_count": 3,
   "metadata": {
    "slideshow": {
     "slide_type": "slide"
    }
   },
   "outputs": [
    {
     "name": "stdout",
     "output_type": "stream",
     "text": [
      "##################################################\r\n",
      "## Default keywords and colour scheme\r\n",
      "## Supported colours:\r\n",
      "## red, orange, yellow, green, blue, purple,\r\n",
      "## brown, black, grey, gray, white\r\n",
      "## Supported symbols from font-awesome\r\n",
      "##################################################\r\n",
      "\r\n",
      "## Heading\r\n",
      "Keyword, Colour, Symbol, keep_keyword, hide\r\n",
      "\r\n",
      "## Environments\r\n",
      "Schedule, white, fa-clock-o, True, False\r\n",
      "\r\n",
      "Prerequisites, green, fa-star, True, False\r\n",
      "Overview, green, fa-file-o, True, False\r\n",
      "Key Points, green, fa-key, True, False\r\n",
      "Setup, green, fa-gears, True, False\r\n",
      "\r\n",
      "Exercise, yellow, fa-pencil-square-o, False, False\r\n",
      "\r\n",
      "Information, blue, fa-info-circle, False, False\r\n",
      "Solution, blue, fa-eye, False, True\r\n"
     ]
    }
   ],
   "source": [
    "!cat example2/config/keywords.cfg"
   ]
  },
  {
   "cell_type": "markdown",
   "metadata": {
    "slideshow": {
     "slide_type": "slide"
    }
   },
   "source": [
    "Comments in this file are denoted using `#` and any line starting with `#` is ignored. Blank lines are also ignored allowing for the config to contain vertical spaces. The first line defines the headings: the keyword and all the properties that are expected. After that each line defines an environement by defining a keyword, which will trigger the cell in a notebook to be processed followed by the formatting. The formatting consists of the colour of the boxm the symbol as defined by the font-awsome font, whether or not the keyword is printed in the rendered notebook and finally whether the cell get hidden (used for solutions)."
   ]
  },
  {
   "cell_type": "markdown",
   "metadata": {
    "slideshow": {
     "slide_type": "slide"
    }
   },
   "source": [
    "## Key Points:\n",
    "- The `--extra_conf` flag for the `nbfancy init` command gives access to more configuration files\n",
    "- The file `keywords.cfg` is a CSV file used to define new keyword environments"
   ]
  }
 ],
 "metadata": {
  "celltoolbar": "Slideshow",
  "kernelspec": {
   "display_name": "Python 3",
   "language": "python",
   "name": "python3"
  },
  "language_info": {
   "codemirror_mode": {
    "name": "ipython",
    "version": 3
   },
   "file_extension": ".py",
   "mimetype": "text/x-python",
   "name": "python",
   "nbconvert_exporter": "python",
   "pygments_lexer": "ipython3",
   "version": "3.7.3"
  }
 },
 "nbformat": 4,
 "nbformat_minor": 2
}
