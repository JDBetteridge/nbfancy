{
 "cells": [
  {
   "cell_type": "markdown",
   "metadata": {
    "slideshow": {
     "slide_type": "slide"
    }
   },
   "source": [
    "# Build"
   ]
  },
  {
   "cell_type": "markdown",
   "metadata": {
    "slideshow": {
     "slide_type": "subslide"
    }
   },
   "source": [
    "## Overview:\n",
    "- **Teaching:** 10 min\n",
    "- **Exercises:** 0 min\n",
    "\n",
    "**Questions**\n",
    "- How do I build a lesson?\n",
    "\n",
    "**Objectives**\n",
    "- Understand the 4 key steps in a build"
   ]
  },
  {
   "cell_type": "markdown",
   "metadata": {
    "slideshow": {
     "slide_type": "slide"
    }
   },
   "source": [
    "The main program for NBfancy is the command line program `nbfancy`, which we saw in the previous section. Typical usage is `nbfancy <verb> [options]`, where `<verb>` is some action, and `[options]` are additional options for that action.\n",
    "\n",
    "For available actions, we can use the `--help` flag."
   ]
  },
  {
   "cell_type": "code",
   "execution_count": 7,
   "metadata": {
    "slideshow": {
     "slide_type": "subslide"
    }
   },
   "outputs": [
    {
     "name": "stdout",
     "output_type": "stream",
     "text": [
      "usage: nbfancy [-h] {init,hello,configure,rerun,render,html}\r\n",
      "\r\n",
      "positional arguments:\r\n",
      "  {init,hello,configure,rerun,render,html}\r\n",
      "                        action to perform. Try adding --help to one of these\r\n",
      "                        options for more usage information\r\n",
      "\r\n",
      "optional arguments:\r\n",
      "  -h, --help            show this help message and exit\r\n"
     ]
    }
   ],
   "source": [
    "!nbfancy --help"
   ]
  },
  {
   "cell_type": "markdown",
   "metadata": {
    "slideshow": {
     "slide_type": "slide"
    }
   },
   "source": [
    "A typical build consists of four steps:\n",
    "* Initialisation with `nbfancy init`\n",
    "* Re-execution with `nbfancy rerun`\n",
    "* Rendering with `nbfancy render`\n",
    "* Publising to website with `nbfancy html`"
   ]
  },
  {
   "cell_type": "markdown",
   "metadata": {
    "slideshow": {
     "slide_type": "slide"
    }
   },
   "source": [
    "## Initialisation\n",
    "To start making training material we initialise a directory with the `nbfancy init [dir]` command:"
   ]
  },
  {
   "cell_type": "code",
   "execution_count": 8,
   "metadata": {
    "slideshow": {
     "slide_type": "subslide"
    }
   },
   "outputs": [],
   "source": [
    "!nbfancy init example"
   ]
  },
  {
   "cell_type": "markdown",
   "metadata": {
    "slideshow": {
     "slide_type": "slide"
    }
   },
   "source": [
    "By default `init` will copy the template lesson to the current working directory, or optional directory argument if provided, to get you started:\n",
    "\n",
    "```bash\n",
    ".\n",
    "├── code\n",
    "├── config\n",
    "│   ├── footer.ipynb\n",
    "│   └── header.ipynb\n",
    "├── data\n",
    "├── images\n",
    "└── nbplain\n",
    "    ├── 00_schedule.ipynb\n",
    "    ├── 01_untitled_episode.ipynb\n",
    "    └── 99_episode_template.ipynb\n",
    "\n",
    "5 directories, 5 files\n",
    "```"
   ]
  },
  {
   "cell_type": "markdown",
   "metadata": {
    "slideshow": {
     "slide_type": "slide"
    }
   },
   "source": [
    "For more information about further options for `init` you can look at the help."
   ]
  },
  {
   "cell_type": "code",
   "execution_count": 9,
   "metadata": {
    "slideshow": {
     "slide_type": "subslide"
    }
   },
   "outputs": [
    {
     "name": "stdout",
     "output_type": "stream",
     "text": [
      "usage: nbfancy init [-h] [--extra_conf] [--include {tutorial,template,none}]\r\n",
      "                    [dir]\r\n",
      "\r\n",
      "positional arguments:\r\n",
      "  dir                   Directory to initialise (default:\r\n",
      "                        /home/rjg20/rse/nbfancy/nbfancy/tutorial/example)\r\n",
      "\r\n",
      "optional arguments:\r\n",
      "  -h, --help            show this help message and exit\r\n",
      "  --extra_conf          Initialise additional configuration files (default:\r\n",
      "                        False)\r\n",
      "  --include {tutorial,template,none}\r\n",
      "                        Fill nbplain directory with examples (default:\r\n",
      "                        template)\r\n"
     ]
    }
   ],
   "source": [
    "!nbfancy init --help"
   ]
  },
  {
   "cell_type": "markdown",
   "metadata": {
    "slideshow": {
     "slide_type": "slide"
    }
   },
   "source": [
    "## Re-execution\n",
    "In order to reduce issues associated with out of order execution, unexecuted cells it is strongly recommended that all notebooks that form a lesson are cleared and re-executed. This can be done quickly and easily with the `nbfancy rerun` command.\n",
    "\n",
    "Re-executing all the notebooks in order can be thought of as automated testing for the code in a lesson, ensuring that someone following along in a lesson won't encounter errors. \n",
    "\n",
    "**Note that if you intend to preserve partially executed notebooks/out-of-order execution, you should omit this step.**"
   ]
  },
  {
   "cell_type": "code",
   "execution_count": 10,
   "metadata": {
    "slideshow": {
     "slide_type": "subslide"
    }
   },
   "outputs": [
    {
     "name": "stdout",
     "output_type": "stream",
     "text": [
      "Reading input file: 00_schedule.ipynb\n",
      "Writing output file: 00_schedule.ipynb\n",
      "Reading input file: 01_untitled_episode.ipynb\n",
      "Writing output file: 01_untitled_episode.ipynb\n",
      "Reading input file: 99_episode_template.ipynb\n",
      "Writing output file: 99_episode_template.ipynb\n"
     ]
    }
   ],
   "source": [
    "%%bash2\n",
    "cd example\n",
    "nbfancy rerun"
   ]
  },
  {
   "cell_type": "markdown",
   "metadata": {
    "slideshow": {
     "slide_type": "slide"
    }
   },
   "source": [
    "## Information: What's this magic?\n",
    "As part of NBfancy we have implemented a thin wrapper around the `%%bash` magic available in notebooks, which we have called `%%bash2`. This just keeps track of what directory we are in, so as to keep the content close to what you would type at the command line. `%%bash2` magic is available as part of NBfancy, to find out more, see [this lesson](10_magic.ipynb)."
   ]
  },
  {
   "cell_type": "markdown",
   "metadata": {
    "slideshow": {
     "slide_type": "slide"
    }
   },
   "source": [
    "Further options for `rerun` are listed in the help."
   ]
  },
  {
   "cell_type": "code",
   "execution_count": 11,
   "metadata": {
    "slideshow": {
     "slide_type": "subslide"
    }
   },
   "outputs": [
    {
     "name": "stdout",
     "output_type": "stream",
     "text": [
      "usage: nbfancy rerun [-h] [--output_dir OUTPUT_DIR] [--clear_only]\r\n",
      "                     [--allow_errors] [--timeout TIMEOUT]\r\n",
      "                     [input_dir]\r\n",
      "\r\n",
      "positional arguments:\r\n",
      "  input_dir             Plain notebook directory (default: nbplain)\r\n",
      "\r\n",
      "optional arguments:\r\n",
      "  -h, --help            show this help message and exit\r\n",
      "  --output_dir OUTPUT_DIR\r\n",
      "                        Name of directory for re-evaluated notebooks (default:\r\n",
      "                        nbplain)\r\n",
      "  --clear_only          Clear the cells, but do not re-evaluate (default:\r\n",
      "                        False)\r\n",
      "  --allow_errors        Continue running notebook even if errors occur\r\n",
      "                        (default: False)\r\n",
      "  --timeout TIMEOUT     Number of seconds to allow each cell to run for\r\n",
      "                        (default: 60)\r\n"
     ]
    }
   ],
   "source": [
    "!nbfancy rerun --help"
   ]
  },
  {
   "cell_type": "markdown",
   "metadata": {
    "slideshow": {
     "slide_type": "slide"
    }
   },
   "source": [
    "## Rendering\n",
    "Keywords in notebooks can be processed and marked up by running the `nbfancy render` command. By default this creates a new directory `nbfancy` containing a rendered versions of the notebooks in `nbplain`, with cells containing keywords decorated with the respective environments (see [environments](05_environments.ipynb) section)."
   ]
  },
  {
   "cell_type": "code",
   "execution_count": 12,
   "metadata": {
    "scrolled": true,
    "slideshow": {
     "slide_type": "subslide"
    }
   },
   "outputs": [
    {
     "name": "stdout",
     "output_type": "stream",
     "text": [
      "Reading input file: 00_schedule.ipynb\n",
      "Writing output file: 00_schedule.ipynb\n",
      "Reading input file: 01_untitled_episode.ipynb\n",
      "Writing output file: 01_untitled_episode.ipynb\n",
      "Reading input file: 99_episode_template.ipynb\n",
      "Writing output file: 99_episode_template.ipynb\n",
      "Writing output file: 99_episode_template-soln.ipynb\n"
     ]
    }
   ],
   "source": [
    "%%bash2\n",
    "nbfancy render"
   ]
  },
  {
   "cell_type": "markdown",
   "metadata": {
    "slideshow": {
     "slide_type": "slide"
    }
   },
   "source": [
    "As always further options for `render` are available in the help."
   ]
  },
  {
   "cell_type": "code",
   "execution_count": 13,
   "metadata": {
    "slideshow": {
     "slide_type": "subslide"
    }
   },
   "outputs": [
    {
     "name": "stdout",
     "output_type": "stream",
     "text": [
      "usage: nbfancy render [-h] [--output_dir OUTPUT_DIR] [-c CONFIG] [input_dir]\r\n",
      "\r\n",
      "positional arguments:\r\n",
      "  input_dir             Plain notebook directory (default: nbplain)\r\n",
      "\r\n",
      "optional arguments:\r\n",
      "  -h, --help            show this help message and exit\r\n",
      "  --output_dir OUTPUT_DIR\r\n",
      "                        Directory to output rendered notebooks to (default:\r\n",
      "                        nbfancy)\r\n",
      "  -c CONFIG, --config CONFIG\r\n",
      "                        Custom configuration directory (default: config)\r\n"
     ]
    }
   ],
   "source": [
    "!nbfancy render --help"
   ]
  },
  {
   "cell_type": "markdown",
   "metadata": {
    "slideshow": {
     "slide_type": "slide"
    }
   },
   "source": [
    "## Publishing\n",
    "Once you have checked the contents of the rendered notebooks, the whole lesson can be built into a website by running the `nbfancy html` command."
   ]
  },
  {
   "cell_type": "code",
   "execution_count": 14,
   "metadata": {
    "slideshow": {
     "slide_type": "subslide"
    }
   },
   "outputs": [
    {
     "name": "stdout",
     "output_type": "stream",
     "text": [
      "Reading input file: 00_schedule.ipynb\n",
      "Writing output file: 00_schedule.html\n",
      "Reading input file: 01_untitled_episode.ipynb\n",
      "Writing output file: 01_untitled_episode.html\n",
      "Reading input file: 99_episode_template.ipynb\n",
      "Writing output file: 99_episode_template.html\n",
      "Reading input file: 99_episode_template-soln.ipynb\n",
      "Writing output file: 99_episode_template-soln.html\n"
     ]
    }
   ],
   "source": [
    "%%bash2\n",
    "nbfancy html"
   ]
  },
  {
   "cell_type": "markdown",
   "metadata": {
    "slideshow": {
     "slide_type": "slide"
    }
   },
   "source": [
    "Additional options for `html` are given by help."
   ]
  },
  {
   "cell_type": "code",
   "execution_count": 15,
   "metadata": {
    "scrolled": true,
    "slideshow": {
     "slide_type": "subslide"
    }
   },
   "outputs": [
    {
     "name": "stdout",
     "output_type": "stream",
     "text": [
      "usage: nbfancy html [-h] [--output_dir OUTPUT_DIR] [input_dir]\r\n",
      "\r\n",
      "positional arguments:\r\n",
      "  input_dir             Fancy notebook directory (default: nbfancy)\r\n",
      "\r\n",
      "optional arguments:\r\n",
      "  -h, --help            show this help message and exit\r\n",
      "  --output_dir OUTPUT_DIR\r\n",
      "                        Directory to output html pages to (default: html)\r\n"
     ]
    }
   ],
   "source": [
    "!nbfancy html --help"
   ]
  },
  {
   "cell_type": "markdown",
   "metadata": {
    "slideshow": {
     "slide_type": "slide"
    }
   },
   "source": [
    "## Key Points:\n",
    "- A directory is initialised using `init`\n",
    "- The contents of a notebook can be cleared and re-executed using `rerun`\n",
    "- `render` provides additional rich reatures to makdown cells\n",
    "- A website of the material is generated using `html`"
   ]
  }
 ],
 "metadata": {
  "celltoolbar": "Slideshow",
  "kernelspec": {
   "display_name": "Python 3",
   "language": "python",
   "name": "python3"
  },
  "language_info": {
   "codemirror_mode": {
    "name": "ipython",
    "version": 3
   },
   "file_extension": ".py",
   "mimetype": "text/x-python",
   "name": "python",
   "nbconvert_exporter": "python",
   "pygments_lexer": "ipython3",
   "version": "3.7.3"
  }
 },
 "nbformat": 4,
 "nbformat_minor": 2
}
