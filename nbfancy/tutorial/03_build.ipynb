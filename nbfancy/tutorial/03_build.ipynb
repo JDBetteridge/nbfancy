{
 "cells": [
  {
   "cell_type": "markdown",
   "metadata": {
    "slideshow": {
     "slide_type": "slide"
    }
   },
   "source": [
    "# Build"
   ]
  },
  {
   "cell_type": "markdown",
   "metadata": {
    "slideshow": {
     "slide_type": "subslide"
    }
   },
   "source": [
    "## Overview:\n",
    "- **Teaching:** 10 min\n",
    "- **Exercises:** 0 min\n",
    "\n",
    "**Questions**\n",
    "- How do I build a lesson?\n",
    "\n",
    "**Objectives**\n",
    "- Understand the 4 key steps in a build"
   ]
  },
  {
   "cell_type": "markdown",
   "metadata": {},
   "source": [
    "The main program for NBfancy is the command line program `nbfancy`, we have seen it in use in the previous section. Typical usage is `nbfancy [verb] [options]`, where `[verb]` is some action, and `[options]` are additional options for that action.\n",
    "\n",
    "For available actions, we can use the `--help` flag."
   ]
  },
  {
   "cell_type": "code",
   "execution_count": 17,
   "metadata": {},
   "outputs": [
    {
     "name": "stdout",
     "output_type": "stream",
     "text": [
      "usage: nbfancy [-h] {init,hello,configure,rerun,render,html}\r\n",
      "\r\n",
      "positional arguments:\r\n",
      "  {init,hello,configure,rerun,render,html}\r\n",
      "                        action to perform. Try adding --help to one of these\r\n",
      "                        options for more usage information\r\n",
      "\r\n",
      "optional arguments:\r\n",
      "  -h, --help            show this help message and exit\r\n"
     ]
    }
   ],
   "source": [
    "!nbfancy --help"
   ]
  },
  {
   "cell_type": "markdown",
   "metadata": {},
   "source": [
    "A typical build consists of four steps:\n",
    "* Initialisation with `init`\n",
    "* Re-execution with `rerun`\n",
    "* Rendering with `render`\n",
    "* Publising to website with `html`"
   ]
  },
  {
   "cell_type": "markdown",
   "metadata": {
    "slideshow": {
     "slide_type": "slide"
    }
   },
   "source": [
    "## Initialisation\n",
    "To start making training material a directory must be initialised, which is done with the `init` command. This works in a similar way to `git init` a directory is provided and all the files we need to create a new lesson are added to the directory. If no directory is provided, the current directory is used."
   ]
  },
  {
   "cell_type": "code",
   "execution_count": 2,
   "metadata": {},
   "outputs": [],
   "source": [
    "!nbfancy init example"
   ]
  },
  {
   "cell_type": "markdown",
   "metadata": {},
   "source": [
    "As part of the initialisation, template files are added to the `nbplain` directory to help you get started. For more information about `init` we can look at the help."
   ]
  },
  {
   "cell_type": "code",
   "execution_count": 8,
   "metadata": {},
   "outputs": [
    {
     "name": "stdout",
     "output_type": "stream",
     "text": [
      "usage: nbfancy init [-h] [--extra_conf] [--include {tutorial,template,none}]\r\n",
      "                    [dir]\r\n",
      "\r\n",
      "positional arguments:\r\n",
      "  dir                   Directory to initialise (default: /home/jack/Documents\r\n",
      "                        /James_Grant/fancy_test/playground/new_tut/nbplain/exa\r\n",
      "                        mple)\r\n",
      "\r\n",
      "optional arguments:\r\n",
      "  -h, --help            show this help message and exit\r\n",
      "  --extra_conf          Initialise additional configuration files (default:\r\n",
      "                        False)\r\n",
      "  --include {tutorial,template,none}\r\n",
      "                        Fill nbplain directory with examples (default:\r\n",
      "                        template)\r\n"
     ]
    }
   ],
   "source": [
    "!nbfancy init --help"
   ]
  },
  {
   "cell_type": "markdown",
   "metadata": {},
   "source": [
    "## Re-execution\n",
    "In order to try and reduce issues associated with out of order execution, unexecuted cells and other quirks of notebooks, it is strongly recommended that all notebooks that form a lesson are cleared and re-executed. This can be done quickly and easily with the `rerun` command."
   ]
  },
  {
   "cell_type": "code",
   "execution_count": 5,
   "metadata": {},
   "outputs": [
    {
     "name": "stdout",
     "output_type": "stream",
     "text": [
      "Reading input file: 00_schedule.ipynb\n",
      "Writing output file: 00_schedule.ipynb\n",
      "Reading input file: 01_untitled_episode.ipynb\n",
      "Writing output file: 01_untitled_episode.ipynb\n",
      "Reading input file: 99_episode_template.ipynb\n",
      "Writing output file: 99_episode_template.ipynb\n"
     ]
    }
   ],
   "source": [
    "%%bash2\n",
    "cd example\n",
    "nbfancy rerun"
   ]
  },
  {
   "cell_type": "markdown",
   "metadata": {},
   "source": [
    "## Information: What's this magic?\n",
    "As part of NBfancy we have implemented a thin wrapper around the `%%bash` magic available in notebooks, which we have called `%%bash2`. This just keeps track of what directory we are in, so as to keep the content close to what you would type at the command line. `%%bash2` magic is available as part of NBfancy, to find out more, see [this lesson](10_magic.ipynb)."
   ]
  },
  {
   "cell_type": "markdown",
   "metadata": {},
   "source": [
    "Re-executing all the notebooks in order has the added feature of resetting the execution count for cells, and ensuring that someone following along in a lesson won't encounter errors. Think of this like automated testing for the code in a lesson.\n",
    "\n",
    "Further options for the `rerun` command are listed in the help."
   ]
  },
  {
   "cell_type": "code",
   "execution_count": 9,
   "metadata": {},
   "outputs": [
    {
     "name": "stdout",
     "output_type": "stream",
     "text": [
      "usage: nbfancy rerun [-h] [--output_dir OUTPUT_DIR] [--clear_only]\r\n",
      "                     [--allow_errors] [--timeout TIMEOUT]\r\n",
      "                     [input_dir]\r\n",
      "\r\n",
      "positional arguments:\r\n",
      "  input_dir             Plain notebook directory (default: nbplain)\r\n",
      "\r\n",
      "optional arguments:\r\n",
      "  -h, --help            show this help message and exit\r\n",
      "  --output_dir OUTPUT_DIR\r\n",
      "                        Name of directory for re-evaluated notebooks (default:\r\n",
      "                        nbplain)\r\n",
      "  --clear_only          Clear the cells, but do not re-evaluate (default:\r\n",
      "                        False)\r\n",
      "  --allow_errors        Continue running notebook even if errors occur\r\n",
      "                        (default: False)\r\n",
      "  --timeout TIMEOUT     Number of seconds to allow each cell to run for\r\n",
      "                        (default: 60)\r\n"
     ]
    }
   ],
   "source": [
    "!nbfancy rerun --help"
   ]
  },
  {
   "cell_type": "markdown",
   "metadata": {},
   "source": [
    "## Rendering\n",
    "Keywords in notebooks can be processed and marked up by running the `render` command. By default this creates a new directory `nbfancy` containing a copy of all of the notebooks in `nbplain`, but with keywords replaced with the respective environments (see [environments](05_environments.ipynb) section)."
   ]
  },
  {
   "cell_type": "code",
   "execution_count": 6,
   "metadata": {
    "scrolled": true
   },
   "outputs": [
    {
     "name": "stdout",
     "output_type": "stream",
     "text": [
      "Reading input file: 00_schedule.ipynb\n",
      "Writing output file: 00_schedule.ipynb\n",
      "Reading input file: 01_untitled_episode.ipynb\n",
      "Writing output file: 01_untitled_episode.ipynb\n",
      "Reading input file: 99_episode_template.ipynb\n",
      "Writing output file: 99_episode_template.ipynb\n",
      "Writing output file: 99_episode_template-soln.ipynb\n"
     ]
    }
   ],
   "source": [
    "%%bash2\n",
    "nbfancy render"
   ]
  },
  {
   "cell_type": "markdown",
   "metadata": {},
   "source": [
    "As always further options are available in the help."
   ]
  },
  {
   "cell_type": "code",
   "execution_count": 15,
   "metadata": {},
   "outputs": [
    {
     "name": "stdout",
     "output_type": "stream",
     "text": [
      "usage: nbfancy render [-h] [--output_dir OUTPUT_DIR] [-c CONFIG] [input_dir]\r\n",
      "\r\n",
      "positional arguments:\r\n",
      "  input_dir             Plain notebook directory (default: nbplain)\r\n",
      "\r\n",
      "optional arguments:\r\n",
      "  -h, --help            show this help message and exit\r\n",
      "  --output_dir OUTPUT_DIR\r\n",
      "                        Directory to output rendered notebooks to (default:\r\n",
      "                        nbfancy)\r\n",
      "  -c CONFIG, --config CONFIG\r\n",
      "                        Custom configuration directory (default: config)\r\n"
     ]
    }
   ],
   "source": [
    "!nbfancy render --help"
   ]
  },
  {
   "cell_type": "markdown",
   "metadata": {},
   "source": [
    "## Publishing\n",
    "Once you have checked the contents of the rendered notebooks, the whole lesson can be built into a website by running the `html` command."
   ]
  },
  {
   "cell_type": "code",
   "execution_count": 7,
   "metadata": {},
   "outputs": [
    {
     "name": "stdout",
     "output_type": "stream",
     "text": [
      "Reading input file: 00_schedule.ipynb\n",
      "Writing output file: 00_schedule.html\n",
      "Reading input file: 01_untitled_episode.ipynb\n",
      "Writing output file: 01_untitled_episode.html\n",
      "Reading input file: 99_episode_template.ipynb\n",
      "Writing output file: 99_episode_template.html\n",
      "Reading input file: 99_episode_template-soln.ipynb\n",
      "Writing output file: 99_episode_template-soln.html\n"
     ]
    }
   ],
   "source": [
    "%%bash2\n",
    "nbfancy html"
   ]
  },
  {
   "cell_type": "markdown",
   "metadata": {},
   "source": [
    "Additional options are given by help."
   ]
  },
  {
   "cell_type": "code",
   "execution_count": 16,
   "metadata": {
    "scrolled": true
   },
   "outputs": [
    {
     "name": "stdout",
     "output_type": "stream",
     "text": [
      "usage: nbfancy html [-h] [--output_dir OUTPUT_DIR] [input_dir]\r\n",
      "\r\n",
      "positional arguments:\r\n",
      "  input_dir             Fancy notebook directory (default: nbfancy)\r\n",
      "\r\n",
      "optional arguments:\r\n",
      "  -h, --help            show this help message and exit\r\n",
      "  --output_dir OUTPUT_DIR\r\n",
      "                        Directory to output html pages to (default: html)\r\n"
     ]
    }
   ],
   "source": [
    "!nbfancy html --help"
   ]
  },
  {
   "cell_type": "markdown",
   "metadata": {
    "slideshow": {
     "slide_type": "slide"
    }
   },
   "source": [
    "## Key Points:\n",
    "- A directory is initialised using `init`\n",
    "- The contents of a notebook can be cleared and re-executed using `rerun`\n",
    "- `render` provides additional rich reatures to makdown cells\n",
    "- A website of the material is generated using `html`"
   ]
  }
 ],
 "metadata": {
  "celltoolbar": "Slideshow",
  "kernelspec": {
   "display_name": "Python 3",
   "language": "python",
   "name": "python3"
  },
  "language_info": {
   "codemirror_mode": {
    "name": "ipython",
    "version": 3
   },
   "file_extension": ".py",
   "mimetype": "text/x-python",
   "name": "python",
   "nbconvert_exporter": "python",
   "pygments_lexer": "ipython3",
   "version": "3.7.3"
  }
 },
 "nbformat": 4,
 "nbformat_minor": 2
}
