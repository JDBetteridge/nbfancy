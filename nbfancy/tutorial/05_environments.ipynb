{
 "cells": [
  {
   "cell_type": "markdown",
   "metadata": {
    "slideshow": {
     "slide_type": "slide"
    }
   },
   "source": [
    "# Environments"
   ]
  },
  {
   "cell_type": "markdown",
   "metadata": {
    "slideshow": {
     "slide_type": "subslide"
    }
   },
   "source": [
    "## Overview:\n",
    "- **Teaching:** 10 min\n",
    "- **Exercises:** 0 min\n",
    "\n",
    "**Questions**\n",
    "- What decoration does NBfancy provide?\n",
    "- How do I use NBFancy to decorate my notebooks?\n",
    "\n",
    "**Objectives**\n",
    "- Learn what NBfancy environments do and how to use them"
   ]
  },
  {
   "cell_type": "markdown",
   "metadata": {
    "slideshow": {
     "slide_type": "slide"
    }
   },
   "source": [
    "## General\n",
    "Keywords can be entered at the start of any markdown cell in a notebook to indicate that it requires additional markup. We call these specailly marked up cells environments. The general syntax is `## Keyword: Optional title`, where:\n",
    "\n",
    "* There can be any number of hashes at the start\n",
    "* The keyword that defines the environment\n",
    "* A colon is **required**, even if no optional title is provided\n",
    "* An optional title can be given, which will appear in the cell\n",
    "\n",
    "This structure for the keywords was chosen so that it still displays well in an unrendered notebook, ie: when you are creating the material.  The specific format has been chosen for ease of use and to mitigate against accidental decoration.\n",
    "\n",
    "*All headings get normalised to `##` regardless of how many hashes are used*"
   ]
  },
  {
   "cell_type": "markdown",
   "metadata": {
    "slideshow": {
     "slide_type": "slide"
    }
   },
   "source": [
    "The keywords available by default, in the order they will normally be encountered, are\n",
    "* `Prerequisites`\n",
    "* `Schedule`\n",
    "* `Setup`\n",
    "These are ususally reserved for the `00_schedule.ipynb` page, but can be used elsewhere if required and\n",
    "* `Overview`\n",
    "* `Information`\n",
    "* `Exercise`\n",
    "* `Solution`\n",
    "* `Key Points`\n",
    "These are normally found in each `XX_episode.ipynb` page.\n",
    "\n",
    "Below we outline how each environment works. In the sections on [keywords](08_keywords.ipynb) and [template](09_template.ipynb), we outline how we can change some of the default behaviour."
   ]
  },
  {
   "cell_type": "markdown",
   "metadata": {
    "slideshow": {
     "slide_type": "slide"
    }
   },
   "source": [
    "### Format\n",
    "We give a description of each environment.\n",
    "\n",
    "This will be followed by three 'cells':\n",
    "1. The first uses `%%markdown` magic to show what the plain text you enter looks like.    \n",
    "2. The output of this cell, the second 'cell' is how the environment will render in the plain notebook\n",
    "3. The third cell is what the cell will look like once `nbfancy render` has been used.\n",
    "\n",
    "You should just enter the plain text **after** `%%markdown` into a markdown cell in a notebook and once rendered it will appear as the third example."
   ]
  },
  {
   "cell_type": "markdown",
   "metadata": {
    "slideshow": {
     "slide_type": "slide"
    }
   },
   "source": [
    "## Prerequisites\n",
    "\n",
    "By default the **prerequisites** environment is coloured green, is higlighted with a star symbol and the keyword is kept in the title."
   ]
  },
  {
   "cell_type": "code",
   "execution_count": 1,
   "metadata": {
    "slideshow": {
     "slide_type": "subslide"
    }
   },
   "outputs": [
    {
     "data": {
      "text/markdown": [
       "## Prerequisites:\n",
       "* Bulleted\n",
       "* List\n",
       "* of\n",
       "* items\n"
      ],
      "text/plain": [
       "<IPython.core.display.Markdown object>"
      ]
     },
     "metadata": {},
     "output_type": "display_data"
    }
   ],
   "source": [
    "%%markdown\n",
    "## Prerequisites:\n",
    "* Bulleted\n",
    "* List\n",
    "* of\n",
    "* items"
   ]
  },
  {
   "cell_type": "markdown",
   "metadata": {
    "slideshow": {
     "slide_type": "subslide"
    }
   },
   "source": [
    "## Prerequisites:\n",
    "* Bulleted\n",
    "* List\n",
    "* of\n",
    "* items"
   ]
  },
  {
   "cell_type": "markdown",
   "metadata": {
    "slideshow": {
     "slide_type": "slide"
    }
   },
   "source": [
    "## Schedule\n",
    "The **schedule** environment is white as most of the body will usually be filled with a table of links to the various parts of the lesson. It uses the clock symbol and by default the keyword is kept."
   ]
  },
  {
   "cell_type": "code",
   "execution_count": 4,
   "metadata": {
    "slideshow": {
     "slide_type": "subslide"
    }
   },
   "outputs": [
    {
     "data": {
      "text/markdown": [
       "## Schedule:\n",
       "| Time | Episode | Description |\n",
       "|---|---|---|\n",
       "| 0:00 | [Introdction](01_intro.ipynb) | A good start |\n",
       "| 0:10 | [Part One](02_part_one.ipynb) | The first part |\n",
       "| 0:20 | [Part Two](03_part_two.ipynb) | The next part |\n"
      ],
      "text/plain": [
       "<IPython.core.display.Markdown object>"
      ]
     },
     "metadata": {},
     "output_type": "display_data"
    }
   ],
   "source": [
    "%%markdown\n",
    "## Schedule:\n",
    "| Time | Episode | Description |\n",
    "|---|---|---|\n",
    "| 0:00 | [Introdction](01_intro.ipynb) | A good start |\n",
    "| 0:10 | [Part One](02_part_one.ipynb) | The first part |\n",
    "| 0:20 | [Part Two](03_part_two.ipynb) | The next part |"
   ]
  },
  {
   "cell_type": "markdown",
   "metadata": {
    "slideshow": {
     "slide_type": "subslide"
    }
   },
   "source": [
    "## Schedule:\n",
    "| Time | Episode | Description |\n",
    "|---|---|---|\n",
    "| 0:00 | [Introdction](01_intro.ipynb) | A good start |\n",
    "| 0:10 | [Part One](02_part_one.ipynb) | The first part |\n",
    "| 0:20 | [Part Two](03_part_two.ipynb) | The next part |"
   ]
  },
  {
   "cell_type": "markdown",
   "metadata": {
    "slideshow": {
     "slide_type": "slide"
    }
   },
   "source": [
    "## Setup\n",
    "The **setup** environment is also green, in general the first and last environment you see on each page will be green, but none on the intermediate environments will be. The symbol is gears and the keyword is retained.\n",
    "\n",
    "When the setup is lengthy we have alternatively included a specific notebook `00_setup.ipynb` and an additional link in the schedule."
   ]
  },
  {
   "cell_type": "code",
   "execution_count": 5,
   "metadata": {
    "slideshow": {
     "slide_type": "subslide"
    }
   },
   "outputs": [
    {
     "data": {
      "text/markdown": [
       "## Setup:\n",
       "Install NBfancy by executing `pip install nbfancy`\n"
      ],
      "text/plain": [
       "<IPython.core.display.Markdown object>"
      ]
     },
     "metadata": {},
     "output_type": "display_data"
    }
   ],
   "source": [
    "%%markdown\n",
    "## Setup:\n",
    "Install NBfancy by executing `pip install nbfancy`"
   ]
  },
  {
   "cell_type": "markdown",
   "metadata": {
    "slideshow": {
     "slide_type": "subslide"
    }
   },
   "source": [
    "## Setup:\n",
    "Install NBfancy by executing `pip install nbfancy`"
   ]
  },
  {
   "cell_type": "markdown",
   "metadata": {
    "slideshow": {
     "slide_type": "slide"
    }
   },
   "source": [
    "## Overview\n",
    "The **overview** environment appears at the start of each section or episode and hence is coloured green. It has uses the page icon and retains the keyword. The overview environment is useful for outlining the timings for a section, the key questions that will be answered and the learning objectives. We suggest the following layout:"
   ]
  },
  {
   "cell_type": "code",
   "execution_count": 1,
   "metadata": {
    "slideshow": {
     "slide_type": "subslide"
    }
   },
   "outputs": [
    {
     "data": {
      "text/markdown": [
       "## Overview:\n",
       "- **Teaching:** 10 min\n",
       "- **Exercises:** 10 min\n",
       "\n",
       "**Questions**\n",
       "- Is this a list of questions?\n",
       "\n",
       "**Objectives**\n",
       "- This is a list of outcomes\n"
      ],
      "text/plain": [
       "<IPython.core.display.Markdown object>"
      ]
     },
     "metadata": {},
     "output_type": "display_data"
    }
   ],
   "source": [
    "%%markdown\n",
    "## Overview:\n",
    "- **Teaching:** 10 min\n",
    "- **Exercises:** 10 min\n",
    "\n",
    "**Questions**\n",
    "- Is this a list of questions?\n",
    "\n",
    "**Objectives**\n",
    "- This is a list of outcomes"
   ]
  },
  {
   "cell_type": "markdown",
   "metadata": {
    "slideshow": {
     "slide_type": "subslide"
    }
   },
   "source": [
    "## Overview:\n",
    "- **Teaching:** 10 min\n",
    "- **Exercises:** 10 min\n",
    "\n",
    "**Questions**\n",
    "- Is this a list of questions?\n",
    "\n",
    "**Objectives**\n",
    "- This is a list of outcomes"
   ]
  },
  {
   "cell_type": "markdown",
   "metadata": {
    "slideshow": {
     "slide_type": "slide"
    }
   },
   "source": [
    "## Information\n",
    "The **information** environment is coloured blue and can be used anywhere in the body of a lesson where special attention is required or additional information is available. It uses the information circle symbol and the keyword is removed on use.  This means that the optional title will be used as the title, and if no optional title is provided, only the symbol will appear."
   ]
  },
  {
   "cell_type": "code",
   "execution_count": 7,
   "metadata": {
    "slideshow": {
     "slide_type": "subslide"
    }
   },
   "outputs": [
    {
     "data": {
      "text/markdown": [
       "## Information: A useful tip\n",
       "Here is some additional information about that thing we just did\n"
      ],
      "text/plain": [
       "<IPython.core.display.Markdown object>"
      ]
     },
     "metadata": {},
     "output_type": "display_data"
    }
   ],
   "source": [
    "%%markdown\n",
    "## Information: A useful tip\n",
    "Here is some additional information about that thing we just did"
   ]
  },
  {
   "cell_type": "markdown",
   "metadata": {
    "slideshow": {
     "slide_type": "subslide"
    }
   },
   "source": [
    "## Information: A useful tip\n",
    "Here is some additional information about that thing we just did"
   ]
  },
  {
   "cell_type": "markdown",
   "metadata": {
    "slideshow": {
     "slide_type": "slide"
    }
   },
   "source": [
    "## Exercise and Solution environments\n",
    "The **exercise** environment is yellow and has a pencil and pad as a symbol. The keyword is removed on use, but you can use the optional title to give exercises titles with a number at the start if desired. There are number of ways of using the exercise environment and its optional partner, solution.  \n",
    "\n",
    "The **solution** environment is blue and uses the eye symbol. As with the exercise environment the keyword is removed, and a number can be used at the start. You won't see any solution environments on this page! So as not to give the answers immediately after the exercise the solutions are placed in a seperate notebook. This allows you to create an exercise and solution together, but these get seperated by the NBfancy tool. The solution link defined in the exercise will point to the solutions page and even scroll the page to the relevant solution, if it were to appear off screen.\n",
    "\n",
    "We will demonstrate four different ways of using the exercise/solution environments."
   ]
  },
  {
   "cell_type": "markdown",
   "metadata": {
    "slideshow": {
     "slide_type": "slide"
    }
   },
   "source": [
    "### Exercise  only\n",
    "First an exercise with no solution, for when no solutions is provided/required."
   ]
  },
  {
   "cell_type": "code",
   "execution_count": 9,
   "metadata": {
    "slideshow": {
     "slide_type": "subslide"
    }
   },
   "outputs": [
    {
     "data": {
      "text/markdown": [
       "## Exercise: 1\n",
       "Do the first task\n"
      ],
      "text/plain": [
       "<IPython.core.display.Markdown object>"
      ]
     },
     "metadata": {},
     "output_type": "display_data"
    }
   ],
   "source": [
    "%%markdown\n",
    "## Exercise: 1\n",
    "Do the first task"
   ]
  },
  {
   "cell_type": "markdown",
   "metadata": {
    "slideshow": {
     "slide_type": "subslide"
    }
   },
   "source": [
    "## Exercise: 1\n",
    "Do the first task"
   ]
  },
  {
   "cell_type": "markdown",
   "metadata": {
    "slideshow": {
     "slide_type": "slide"
    }
   },
   "source": [
    "### Exercise and separate solution\n",
    "Second an exercise with no inline solution, but which creates a link to a solution notebook. This is useful if you have already defined solutions in a separate notebook.  Currently, the notebooks must have the same root name but with the solution ending with `-soln`. That is if your notebook is called `01_lesson.ipynb` then the link will point to `01_lesson-soln.ipynb`.\n",
    "\n",
    "If the exercise environment ends with an empty markdown link: `[Solution]()` then a link will be created to the solution **automatically**, if it has the same title."
   ]
  },
  {
   "cell_type": "code",
   "execution_count": 10,
   "metadata": {
    "slideshow": {
     "slide_type": "subslide"
    }
   },
   "outputs": [
    {
     "data": {
      "text/markdown": [
       "## Exercise: 2\n",
       "Do the second task\n",
       "\n",
       "[Solution]()\n"
      ],
      "text/plain": [
       "<IPython.core.display.Markdown object>"
      ]
     },
     "metadata": {},
     "output_type": "display_data"
    }
   ],
   "source": [
    "%%markdown\n",
    "## Exercise: 2\n",
    "Do the second task\n",
    "\n",
    "[Solution]()"
   ]
  },
  {
   "cell_type": "markdown",
   "metadata": {
    "slideshow": {
     "slide_type": "subslide"
    }
   },
   "source": [
    "## Exercise: 2\n",
    "Do the second task\n",
    "\n",
    "[Solution]()"
   ]
  },
  {
   "cell_type": "markdown",
   "metadata": {
    "slideshow": {
     "slide_type": "slide"
    }
   },
   "source": [
    "### Exercise and solution, missing link\n",
    "\n",
    "Third an exercise with a solution defined after it, but no link included in the exercise. This is usually an error, but included to demonstrate that the solution is not lost, just difficult to get to!"
   ]
  },
  {
   "cell_type": "code",
   "execution_count": 11,
   "metadata": {
    "slideshow": {
     "slide_type": "subslide"
    }
   },
   "outputs": [
    {
     "data": {
      "text/markdown": [
       "## Exercise: 3\n",
       "Do the third task\n"
      ],
      "text/plain": [
       "<IPython.core.display.Markdown object>"
      ]
     },
     "metadata": {},
     "output_type": "display_data"
    }
   ],
   "source": [
    "%%markdown\n",
    "## Exercise: 3\n",
    "Do the third task"
   ]
  },
  {
   "cell_type": "markdown",
   "metadata": {
    "slideshow": {
     "slide_type": "subslide"
    }
   },
   "source": [
    "## Exercise: 3\n",
    "Do the third task"
   ]
  },
  {
   "cell_type": "code",
   "execution_count": 14,
   "metadata": {
    "slideshow": {
     "slide_type": "subslide"
    }
   },
   "outputs": [
    {
     "data": {
      "text/markdown": [
       "## Solution: 3\n",
       "Everyone gets stuck on number 3\n",
       "\n",
       "BIG BLANK SPACE REQUIRED\n"
      ],
      "text/plain": [
       "<IPython.core.display.Markdown object>"
      ]
     },
     "metadata": {},
     "output_type": "display_data"
    }
   ],
   "source": [
    "%%markdown\n",
    "## Solution: 3\n",
    "Everyone gets stuck on number 3\n",
    "\n",
    "BIG BLANK SPACE REQUIRED"
   ]
  },
  {
   "cell_type": "markdown",
   "metadata": {
    "slideshow": {
     "slide_type": "subslide"
    }
   },
   "source": [
    "## Solution: 3\n",
    "Everyone gets stuck on number 3\n",
    "<div style=\"height:100vh\"></div>\n",
    "BIG BLANK SPACE REQUIRED"
   ]
  },
  {
   "cell_type": "markdown",
   "metadata": {
    "slideshow": {
     "slide_type": "slide"
    }
   },
   "source": [
    "### Exercise and Solution\n",
    "\n",
    "Fourth and finally an exercise with a solution defined after it, with an empty link included in the exercise. This is the intended typical use of the exercise and solution pair."
   ]
  },
  {
   "cell_type": "code",
   "execution_count": 15,
   "metadata": {
    "slideshow": {
     "slide_type": "subslide"
    }
   },
   "outputs": [
    {
     "data": {
      "text/markdown": [
       "## Exercise: 4\n",
       "Do the fourth task\n",
       "\n",
       "[Solution]()\n"
      ],
      "text/plain": [
       "<IPython.core.display.Markdown object>"
      ]
     },
     "metadata": {},
     "output_type": "display_data"
    }
   ],
   "source": [
    "%%markdown\n",
    "## Exercise: 4\n",
    "Do the fourth task\n",
    "\n",
    "[Solution]()"
   ]
  },
  {
   "cell_type": "markdown",
   "metadata": {
    "slideshow": {
     "slide_type": "subslide"
    }
   },
   "source": [
    "## Exercise: 4\n",
    "Do the fourth task\n",
    "\n",
    "[Solution]()"
   ]
  },
  {
   "cell_type": "code",
   "execution_count": 16,
   "metadata": {
    "slideshow": {
     "slide_type": "subslide"
    }
   },
   "outputs": [
    {
     "data": {
      "text/markdown": [
       "## Solution: 4\n",
       "The fourth task was trivial\n",
       "\n",
       "BIG BLANK LESS NECESSARY\n"
      ],
      "text/plain": [
       "<IPython.core.display.Markdown object>"
      ]
     },
     "metadata": {},
     "output_type": "display_data"
    }
   ],
   "source": [
    "%%markdown\n",
    "## Solution: 4\n",
    "The fourth task was trivial\n",
    "\n",
    "BIG BLANK LESS NECESSARY"
   ]
  },
  {
   "cell_type": "markdown",
   "metadata": {
    "slideshow": {
     "slide_type": "subslide"
    }
   },
   "source": [
    "## Solution: 4\n",
    "The fourth task was trivial\n",
    "<div style=\"height:100vh\"></div>\n",
    "BIG BLANK LESS NECESSARY"
   ]
  },
  {
   "cell_type": "markdown",
   "metadata": {
    "slideshow": {
     "slide_type": "slide"
    }
   },
   "source": [
    "## Key Points\n",
    "The key points environment is typically used to close an episode and is coloured green. It uses the key as a symbol and the keyword is kept. By way of example, we will summarise the key points of this section here."
   ]
  },
  {
   "cell_type": "code",
   "execution_count": 8,
   "metadata": {
    "slideshow": {
     "slide_type": "subslide"
    }
   },
   "outputs": [
    {
     "data": {
      "text/markdown": [
       "## Key Points:\n",
       "- The general keyword syntax is `## Keyword: Optional title\n",
       "- `Prerequisites`, `Schedule` and `Setup` are generally used on the first page\n",
       "- Sections start with an `Overview` and finish with `Key Points`\n",
       "- `Information` highlights additional information in the lesson\n",
       "- `Exercise` and `Solution` can be used as a pair to set exercises\n"
      ],
      "text/plain": [
       "<IPython.core.display.Markdown object>"
      ]
     },
     "metadata": {},
     "output_type": "display_data"
    }
   ],
   "source": [
    "%%markdown\n",
    "## Key Points:\n",
    "- The general keyword syntax is `## Keyword: Optional title`\n",
    "- `Prerequisites`, `Schedule` and `Setup` are generally used on the first page\n",
    "- Sections start with an `Overview` and finish with `Key Points`\n",
    "- `Information` highlights additional information in the lesson\n",
    "- `Exercise` and `Solution` can be used as a pair to set exercises"
   ]
  },
  {
   "cell_type": "markdown",
   "metadata": {
    "slideshow": {
     "slide_type": "subslide"
    }
   },
   "source": [
    "## Key Points:\n",
    "- The general keyword syntax is `## Keyword: Optional title`\n",
    "- `Prerequisites`, `Schedule` and `Setup` are generally used on the first page\n",
    "- Sections start with an `Overview` and finish with `Key Points`\n",
    "- `Information` highlights additional information in the lesson\n",
    "- `Exercise` and `Solution` can be used as a pair to set exercises"
   ]
  }
 ],
 "metadata": {
  "celltoolbar": "Slideshow",
  "kernelspec": {
   "display_name": "Python 3",
   "language": "python",
   "name": "python3"
  },
  "language_info": {
   "codemirror_mode": {
    "name": "ipython",
    "version": 3
   },
   "file_extension": ".py",
   "mimetype": "text/x-python",
   "name": "python",
   "nbconvert_exporter": "python",
   "pygments_lexer": "ipython3",
   "version": "3.7.3"
  }
 },
 "nbformat": 4,
 "nbformat_minor": 2
}
