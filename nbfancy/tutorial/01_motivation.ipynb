{
 "cells": [
  {
   "cell_type": "markdown",
   "metadata": {
    "slideshow": {
     "slide_type": "slide"
    }
   },
   "source": [
    "# Motivation"
   ]
  },
  {
   "cell_type": "markdown",
   "metadata": {
    "slideshow": {
     "slide_type": "subslide"
    }
   },
   "source": [
    "## Overview:\n",
    "- **Teaching:** 10 min\n",
    "- **Exercises:** 0 min\n",
    "\n",
    "**Questions**\n",
    "- What are the challenges in developing teaching material for programming?\n",
    "- Why do we like Jupyter notebooks?\n",
    "- How can NBfancy help?\n",
    "\n",
    "**Objectives**\n",
    "- Understand the motivation behind the development of NBfancy\n",
    "- Find out what problems NBfancy solves"
   ]
  },
  {
   "cell_type": "markdown",
   "metadata": {
    "slideshow": {
     "slide_type": "slide"
    }
   },
   "source": [
    "## The current method\n",
    "In our experience the development of training material, tutorials and lessons for programming can be fairly ad-hoc. The process usually goes something like this:\n",
    "1. Start a document in your editor of choice\n",
    "2. While (not finished):\n",
    "    1. Write some narrative\n",
    "    2. Write some _perfect_ example code in a separate text editor/IDE/terminal\n",
    "    3. Run code (and it works first time!)\n",
    "    4. Copy code to document\n",
    "    5. Copy output to document\n",
    "3. Write slides/handouts/exercises ..."
   ]
  },
  {
   "cell_type": "markdown",
   "metadata": {
    "slideshow": {
     "slide_type": "slide"
    }
   },
   "source": [
    "Of course this assumes the perfect world where eveything works first time. The ususal story is by the time we start working on the second example, we notice a mistake in the first example, or something else that is needed, or a better way of writing it. At this stage we need to go back stage 2 and typically several iterations are required.  This process is time consuming, reduces the time we invest in the content and means, even minor changes can take significant effort and creating new material.  Likely, if you are in this position, you just find someone elses material and hope that it fits your needs."
   ]
  },
  {
   "cell_type": "markdown",
   "metadata": {
    "slideshow": {
     "slide_type": "slide"
    }
   },
   "source": [
    "## Information: Software Carpentry\n",
    "One example of a source of pre-packaged training material is [Software Carpentry](https://software-carpentry.org). We think this is a great example of how lessons should be organised, but the format doesn't lend itself to being readily edited."
   ]
  },
  {
   "cell_type": "markdown",
   "metadata": {
    "slideshow": {
     "slide_type": "slide"
    }
   },
   "source": [
    "## Jupyter Notebooks\n",
    "One approach to mixing code with the text of training material is a [Jupyter notebook](https://jupyter.org). This platform allows a user to write narrative and code simultaneously.  The narrative is in markdown, a lightweight markup language with basic formatting.  An ever increasing number of programming languagues are supported, with code executed and output viewed all in the same document. It is for this reason that we use notebooks as the basis for NBfancy."
   ]
  },
  {
   "cell_type": "markdown",
   "metadata": {
    "slideshow": {
     "slide_type": "slide"
    }
   },
   "source": [
    "## NBfancy\n",
    "While markdown is lightweight, as a superset of `HTML` notebooks can be made *prettier* by including additional fotrmatting, however this requires using yet another language while introducing additional debugging layer.  We solve these issues by using NBfancy, a set of tools written to augment notebooks, to allow you to develop training material more effectively. We do this by\n",
    "* Providing a template for all of the material\n",
    "* Allowing richer content in markdown cells through keywords\n",
    "* Using Jupyter notebooks to mix documentation and code\n",
    "* Creating a simple workflow taking you from creating material to publishing it\n",
    "* Even more tools to aid creation of new material\n",
    "\n",
    "NBfancy is also customisable and includes features that allow you to change the system to make it a tool suitable for your needs."
   ]
  },
  {
   "cell_type": "markdown",
   "metadata": {
    "slideshow": {
     "slide_type": "slide"
    }
   },
   "source": [
    "## Key Points:\n",
    "- Creating new teaching material is difficult and time consuming\n",
    "- Notebooks can help to some degree\n",
    "- NBfancy is designed to enhance the features of notebooks"
   ]
  }
 ],
 "metadata": {
  "celltoolbar": "Slideshow",
  "kernelspec": {
   "display_name": "Python 3",
   "language": "python",
   "name": "python3"
  },
  "language_info": {
   "codemirror_mode": {
    "name": "ipython",
    "version": 3
   },
   "file_extension": ".py",
   "mimetype": "text/x-python",
   "name": "python",
   "nbconvert_exporter": "python",
   "pygments_lexer": "ipython3",
   "version": "3.7.3"
  }
 },
 "nbformat": 4,
 "nbformat_minor": 2
}
