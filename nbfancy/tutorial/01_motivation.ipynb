{
 "cells": [
  {
   "cell_type": "markdown",
   "metadata": {
    "slideshow": {
     "slide_type": "slide"
    }
   },
   "source": [
    "# Motivation"
   ]
  },
  {
   "cell_type": "markdown",
   "metadata": {
    "slideshow": {
     "slide_type": "subslide"
    }
   },
   "source": [
    "## Overview:\n",
    "- **Teaching:** 10 min\n",
    "- **Exercises:** 0 min\n",
    "\n",
    "**Questions**\n",
    "- What's bad about the way training material is currently developed?\n",
    "- What's good about Jupyter notebooks?\n",
    "- How can NBfancy help?\n",
    "\n",
    "**Objectives**\n",
    "- Understand the motivation behind the development of NBfancy\n",
    "- Find out what problems NBfancy solves"
   ]
  },
  {
   "cell_type": "markdown",
   "metadata": {
    "slideshow": {
     "slide_type": "slide"
    }
   },
   "source": [
    "## The current method\n",
    "In our experience the development of training material, tutorials and lessons for programming can be fairly ad-hoc. The process usually goes something like this:\n",
    "1. Start a document in your text editor/word processor of choice\n",
    "2. While (not finished):\n",
    "    1. Write some narrative\n",
    "    2. Write some _perfect_ example code in a seperate text editor/IDE/terminal\n",
    "    3. Run code and it works first time\n",
    "    4. Copy code to document\n",
    "    5. Copy output to document\n",
    "3. Start writing slides/handouts/exercises..."
   ]
  },
  {
   "cell_type": "markdown",
   "metadata": {},
   "source": [
    "Of course this assumes a perfect world where eveything works first time. The ususal story is by the time we start working on the second example, we notice a mistake in the first example, or something else that is needed, oar a better way of writing it. At this stage we need to go back to our code, edit it, check it runs and then copy and past both the input and output to our document again.\n",
    "\n",
    "This procedure is incredibly time consuming, leaving less time for step 3, and making the task of creating or updating training material undesirable. Likely, if you are in this position, you just find someone elses material and hope that it fits your needs."
   ]
  },
  {
   "cell_type": "markdown",
   "metadata": {},
   "source": [
    "## Information: Software Carpentry\n",
    "One example of a source of pre-packaged training material is [Software Carpentry](https://software-carpentry.org). We think this material is a good example of how our lessons should run, but these lessons are not in a flexible format that lends itself to being readily edited."
   ]
  },
  {
   "cell_type": "markdown",
   "metadata": {},
   "source": [
    "## Jupyter Notebooks\n",
    "One answer to mixing code with the text of training material is a [Jupyter notebook](https://jupyter.org). This platform allows a user to write the narrative in markdown, a very simple markup language with basic formatting and simultaneously write code, execute it and see the output all in the same document. It is for this reason that we use notebooks as the basis for NBfancy.\n",
    "\n",
    "However, notebooks are not perfect. As unpopular an opinion as this may be, using notebooks can lead to all kinds of problems. A lot of information in a notebook is stored in a hidden state, out of order execution can cause problems and workarounds often lead to bad practise. It's not that we don't like notebooks, we just think they can be better!"
   ]
  },
  {
   "cell_type": "markdown",
   "metadata": {},
   "source": [
    "## NBfancy\n",
    "We solve these issues by using NBfancy, a set of tools written to augment notebooks, to allow you to develop training material more effectively. We do this by\n",
    "* Providing a template for all of the material\n",
    "* Allowing richer content in markdown cells through keywords\n",
    "* Using Jupyter notebooks to mix documentation and code\n",
    "* Creating a simple workflow taking you from creating material to publishing it\n",
    "* Even more tools to aid creation of new material\n",
    "\n",
    "NBfancy is also customisable and includes features that allow you to change the system to make it a tool suitable for your needs."
   ]
  },
  {
   "cell_type": "markdown",
   "metadata": {
    "slideshow": {
     "slide_type": "slide"
    }
   },
   "source": [
    "## Key Points:\n",
    "- Creating new material is difficult and time consuming\n",
    "- Notebooks can help to some degree\n",
    "- NBfancy is designed to extend the features of notebooks"
   ]
  }
 ],
 "metadata": {
  "celltoolbar": "Slideshow",
  "kernelspec": {
   "display_name": "Python 3",
   "language": "python",
   "name": "python3"
  },
  "language_info": {
   "codemirror_mode": {
    "name": "ipython",
    "version": 3
   },
   "file_extension": ".py",
   "mimetype": "text/x-python",
   "name": "python",
   "nbconvert_exporter": "python",
   "pygments_lexer": "ipython3",
   "version": "3.7.3"
  }
 },
 "nbformat": 4,
 "nbformat_minor": 2
}
