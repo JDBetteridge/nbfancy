{
 "cells": [
  {
   "cell_type": "markdown",
   "metadata": {
    "slideshow": {
     "slide_type": "slide"
    }
   },
   "source": [
    "# Structure of Episodes"
   ]
  },
  {
   "cell_type": "markdown",
   "metadata": {
    "slideshow": {
     "slide_type": "slide"
    }
   },
   "source": [
    "## Overview\n",
    "- **Teaching:** 15 min\n",
    "- **Exercises:** 0 min\n",
    "\n",
    "**Questions**\n",
    "- What is the schedule?\n",
    "- Why does each episode need an overview?\n",
    "- How do I create my content?\n",
    "\n",
    "**Objectives**\n",
    "- Understand why we adopt this structure\n",
    "- Be able to create content in the schedule and episodes"
   ]
  },
  {
   "cell_type": "markdown",
   "metadata": {
    "slideshow": {
     "slide_type": "slide"
    }
   },
   "source": [
    "## The Schedule\n",
    "This is a special episode, typically `00_schedule.ipynb`, which gives an overview of the lesson, details any pre-requisites, links to each episode and any additional information such as setup required before starting the lesson.\n",
    "`Prerequisites` and `Schedule` are keywords that trigger decoration when the plain notebooks are built.  This can be seen by comparing the plain and rendered schedule notebook."
   ]
  },
  {
   "cell_type": "markdown",
   "metadata": {
    "slideshow": {
     "slide_type": "slide"
    }
   },
   "source": [
    "This cell:\n",
    "```\n",
    "## Prerequisites\n",
    "- Help students to know what they need to know before the course\n",
    "```\n",
    "renders to:"
   ]
  },
  {
   "cell_type": "markdown",
   "metadata": {
    "slideshow": {
     "slide_type": "slide"
    }
   },
   "source": [
    "## Prerequisites\n",
    "- Help students to know what they need to know before the course"
   ]
  },
  {
   "cell_type": "markdown",
   "metadata": {
    "slideshow": {
     "slide_type": "slide"
    }
   },
   "source": [
    "While this cell:\n",
    "```\n",
    "## Schedule\n",
    "Approximate timings for the lesson: (<-- strange bug dont remove line of text here ???)\n",
    "\n",
    "| Time | Episode | Description |\n",
    "|---|---|---|\n",
    "| 0:00 | Coffee | Helps to kickstart the day |\n",
    "```\n",
    "renders to:"
   ]
  },
  {
   "cell_type": "markdown",
   "metadata": {
    "slideshow": {
     "slide_type": "slide"
    }
   },
   "source": [
    "## Schedule\n",
    "Approximate timings for the lesson: (<-- strange bug dont remove line of text here ???)\n",
    "\n",
    "| Time | Episode | Description |\n",
    "|---|---|---|\n",
    "| 0:00 | Coffee | Helps to kickstart the day |"
   ]
  },
  {
   "cell_type": "markdown",
   "metadata": {
    "slideshow": {
     "slide_type": "slide"
    }
   },
   "source": [
    "## Typical Episodes\n",
    "Apart from the schedule follow a standard format beginning with an `## Overview` in which you can estimate the time for different activities, give examples of questions that the episode seeks to address and specify **Learning Objectives**.  The end of the lesson has a `## Key points` section which is used to recap stand out ideas from the lesson.  As well as helping the teacher/trainer delivering the materil during workshops, adopting the practice of learning objectives, outcomes and recapping importance points can also help to develop focussed training materials and plan the scope of lessons from the early stages of development."
   ]
  },
  {
   "cell_type": "markdown",
   "metadata": {
    "slideshow": {
     "slide_type": "slide"
    }
   },
   "source": [
    "Your overview cell will look like:\n",
    "```\n",
    "## Overview\n",
    "- **Teaching:** 5 min\n",
    "- **Exercises:** 0 min\n",
    "\n",
    "**Questions**\n",
    "- What is the schedule?\n",
    "\n",
    "**Objectives**\n",
    "- Understand why we need objectives\n",
    "```\n",
    "and render to:"
   ]
  },
  {
   "cell_type": "markdown",
   "metadata": {
    "slideshow": {
     "slide_type": "slide"
    }
   },
   "source": [
    "## Overview\n",
    "- **Teaching:** 5 min\n",
    "- **Exercises:** 0 min\n",
    "\n",
    "**Questions**\n",
    "- What is the schedule?\n",
    "\n",
    "**Objectives**\n",
    "- Understand why we need objectives"
   ]
  },
  {
   "cell_type": "markdown",
   "metadata": {
    "slideshow": {
     "slide_type": "slide"
    }
   },
   "source": [
    "While your key points:\n",
    "```\n",
    "## Key points\n",
    "- Key points remind us to make sure we covered everything in our objectives!\n",
    "```\n",
    "renders to:"
   ]
  },
  {
   "cell_type": "markdown",
   "metadata": {
    "slideshow": {
     "slide_type": "slide"
    }
   },
   "source": [
    "## Key Points\n",
    "- KeyPoints remind us to make sure we covered everything in our objectives!"
   ]
  },
  {
   "cell_type": "markdown",
   "metadata": {
    "slideshow": {
     "slide_type": "slide"
    }
   },
   "source": [
    "\n",
    "In between these two key sections you are free to set up cells, length and type as you choose.  There are also additional key words that can be used to draw additional attention (`Important: This is really important`), and set up `Exercises: A testing example` and `Solution: A testing example` pairs.  Further details on all the key words and what they do are given in the following the Features of the Build Exercise."
   ]
  },
  {
   "cell_type": "markdown",
   "metadata": {
    "slideshow": {
     "slide_type": "slide"
    }
   },
   "source": [
    "## Key Points\n",
    "- A lesson requires a schedule and episodes.\n",
    "- The schedule gives an overview of the workshop and links each episode.\n",
    "- Each episode needs to be numbered and linked.\n",
    "- Keywords are used to decorate cells with pre-formatted `html`."
   ]
  }
 ],
 "metadata": {
  "celltoolbar": "Slideshow",
  "kernelspec": {
   "display_name": "Python 3",
   "language": "python",
   "name": "python3"
  },
  "language_info": {
   "codemirror_mode": {
    "name": "ipython",
    "version": 3
   },
   "file_extension": ".py",
   "mimetype": "text/x-python",
   "name": "python",
   "nbconvert_exporter": "python",
   "pygments_lexer": "ipython3",
   "version": "3.6.6"
  }
 },
 "nbformat": 4,
 "nbformat_minor": 2
}
