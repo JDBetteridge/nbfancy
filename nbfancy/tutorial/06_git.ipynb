{
 "cells": [
  {
   "cell_type": "markdown",
   "metadata": {
    "slideshow": {
     "slide_type": "slide"
    }
   },
   "source": [
    "# Git and Continuous Integration"
   ]
  },
  {
   "cell_type": "markdown",
   "metadata": {
    "slideshow": {
     "slide_type": "subslide"
    }
   },
   "source": [
    "## Overview\n",
    "- **Teaching:** 30 min\n",
    "- **Exercises:** 10 min\n",
    "\n",
    "**Questions**\n",
    "- How do I keep my lesson under version control?\n",
    "- How can I use continuous integration to deploy my lesson?\n",
    "\n",
    "**Objectives**\n",
    "- Learn which files need to go into a git repository\n",
    "- Learn which files don't need to go in\n",
    "- Manage dependencies with `requirements.txt`\n",
    "- Use a continuous integration tool to deploy alesson as a webpage"
   ]
  },
  {
   "cell_type": "markdown",
   "metadata": {},
   "source": []
  },
  {
   "cell_type": "markdown",
   "metadata": {},
   "source": [
    "```\n",
    "dist: xenial\n",
    "language: python\n",
    "python:\n",
    "  - \"3.7\"\n",
    "\n",
    "install:\n",
    "  - pip install -r requirements.txt\n",
    "  - pip install nbfancy\n",
    "\n",
    "script:\n",
    "  - nbfancy init --include none\n",
    "  - nbfancy rerun\n",
    "  - nbfancy render\n",
    "  - nbfancy html\n",
    "\n",
    "deploy:\n",
    "  provider: pages\n",
    "  repo: USER/lesson\n",
    "  target-branch: gh-pages\n",
    "  local-dir: gh-pages/html\n",
    "  github_token: $GITHUB_TOKEN\n",
    "  skip-cleanup: true\n",
    "  on:\n",
    "    branch: master\n",
    "```"
   ]
  },
  {
   "cell_type": "markdown",
   "metadata": {
    "slideshow": {
     "slide_type": "slide"
    }
   },
   "source": [
    "## Key Points\n",
    "- c"
   ]
  }
 ],
 "metadata": {
  "celltoolbar": "Slideshow",
  "kernelspec": {
   "display_name": "Python 3",
   "language": "python",
   "name": "python3"
  },
  "language_info": {
   "codemirror_mode": {
    "name": "ipython",
    "version": 3
   },
   "file_extension": ".py",
   "mimetype": "text/x-python",
   "name": "python",
   "nbconvert_exporter": "python",
   "pygments_lexer": "ipython3",
   "version": "3.7.3"
  }
 },
 "nbformat": 4,
 "nbformat_minor": 2
}
