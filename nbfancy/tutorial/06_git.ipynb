{
 "cells": [
  {
   "cell_type": "markdown",
   "metadata": {
    "slideshow": {
     "slide_type": "slide"
    }
   },
   "source": [
    "# Git and Continuous Integration"
   ]
  },
  {
   "cell_type": "markdown",
   "metadata": {
    "slideshow": {
     "slide_type": "subslide"
    }
   },
   "source": [
    "## Overview:\n",
    "- **Teaching:** 10 min\n",
    "- **Exercises:** 0 min\n",
    "\n",
    "**Questions**\n",
    "- How can I use continuous integration to deploy my lesson?\n",
    "\n",
    "**Objectives**\n",
    "- Learn which files exclude git repository\n",
    "- Manage dependencies with `requirements.txt`\n",
    "- Use travis to deploy a lesson as a webpage on github"
   ]
  },
  {
   "cell_type": "markdown",
   "metadata": {
    "slideshow": {
     "slide_type": "slide"
    }
   },
   "source": [
    "## .gitignore\n",
    "\n",
    "We use `git` for version control, if you are not familiar then see our [lesson](https://arc-lessons.github.io/version-control-git/00_schedule.html) or the [Software Carpentry](http://swcarpentry.github.io/git-novice/).\n",
    "\n",
    "To keep our repository clean, we exclude certain files to accidentally adding them to our lesson repositories.  Since we are using notebooks, we will probably need to exclude checkpoint files `*.ipynbc`, bytecode `__pycache__`, the rendered notebook and published directories by creating and adding a `.gitignore` in the root of our repository:\n",
    "```bash\n",
    "**/.ipynb_checkpoints\n",
    "**/__pycache__\n",
    "nbfancy\n",
    "html\n",
    "```\n",
    "\n",
    "\n"
   ]
  },
  {
   "cell_type": "markdown",
   "metadata": {
    "slideshow": {
     "slide_type": "slide"
    }
   },
   "source": [
    "## Dependencies\n",
    "\n",
    "If your lesson has specific dependencies you should include these in a `requirements.txt`.  This will ensure that they are available for the automated build, and make it clear to your users what libraries they need.  Unlike using `!pip install <my_favourite_library>` in a notebook.  For instance we have tried to minimise the dependencies for `nbfancy` so its requirements is:\n",
    "```bash\n",
    "ipython>=6\n",
    "jupyter\n",
    "```"
   ]
  },
  {
   "cell_type": "markdown",
   "metadata": {
    "slideshow": {
     "slide_type": "slide"
    }
   },
   "source": [
    "## Continuous Integration\n",
    "\n",
    "Automatically building your lesson reduces administration time and also serves to check that everything is building correctly.  There is a huge amount of documentation available, [travis-ci](https://docs.travis-ci.com/user/tutorial/) is comprehensive and includes links to set up each aspect of the process.  You will also need to set up tokens for automatic deployment to [github pages](https://docs.travis-ci.com/user/deployment/pages/).\n",
    "\n",
    "You will need to create and add a `.travis.yml` in the root of your repository, ours looks like:"
   ]
  },
  {
   "cell_type": "markdown",
   "metadata": {
    "slideshow": {
     "slide_type": "subslide"
    }
   },
   "source": [
    "```\n",
    "dist: xenial\n",
    "language: python\n",
    "python:\n",
    "  - \"3.7\"\n",
    "\n",
    "install:\n",
    "  - pip install -r requirements.txt\n",
    "  - pip install nbfancy\n",
    "\n",
    "script:\n",
    "  - nbfancy init --include none\n",
    "  - nbfancy rerun\n",
    "  - nbfancy render\n",
    "  - nbfancy html\n",
    "\n",
    "deploy:\n",
    "  provider: pages\n",
    "  repo: USER/lesson\n",
    "  target-branch: gh-pages\n",
    "  local-dir: gh-pages/html\n",
    "  github_token: $GITHUB_TOKEN\n",
    "  skip-cleanup: true\n",
    "  on:\n",
    "    branch: master\n",
    "```"
   ]
  },
  {
   "cell_type": "markdown",
   "metadata": {
    "slideshow": {
     "slide_type": "subslide"
    }
   },
   "source": [
    "Note that if you don't want to rerun notebooks you should omit this line in `script`.  In your requirements we recommend not including `nbfancy` as we have here as it is required to build the lesson, not by your students in the lesson (that is, unless you're writing your own nbfancy lesson) and you will need to change USER to your username.\n",
    "\n",
    "For descriptions of the different componenets of the file it is best to check out the Travis CI documentation\n"
   ]
  },
  {
   "cell_type": "markdown",
   "metadata": {
    "slideshow": {
     "slide_type": "slide"
    }
   },
   "source": [
    "## Key Points:\n",
    "- Use a gitignore to avoid local builds, checkpoints, bytecode files\n",
    "- Use requirements.txt for the dependencies for your lesson\n",
    "- For github with travis CI include a .travis.yml and set up your CI"
   ]
  }
 ],
 "metadata": {
  "celltoolbar": "Slideshow",
  "kernelspec": {
   "display_name": "Python 3",
   "language": "python",
   "name": "python3"
  },
  "language_info": {
   "codemirror_mode": {
    "name": "ipython",
    "version": 3
   },
   "file_extension": ".py",
   "mimetype": "text/x-python",
   "name": "python",
   "nbconvert_exporter": "python",
   "pygments_lexer": "ipython3",
   "version": "3.7.3"
  }
 },
 "nbformat": 4,
 "nbformat_minor": 2
}
