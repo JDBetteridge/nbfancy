{
 "cells": [
  {
   "cell_type": "markdown",
   "metadata": {},
   "source": [
    "DO NOT REMOVE THIS CELL!\n",
    "\n",
    "You can replace the existing template by modifying the next cell. When the notebook is rendered the following will happen:\n",
    "\n",
    "All the cells below will be inserted at the top of all the rendered notebooks as is."
   ]
  },
  {
   "cell_type": "markdown",
   "metadata": {},
   "source": [
    "<div class=\"w3-bar w3-blue-grey w3-padding\">\n",
    "<div style=\"text-align:center\">\n",
    "    <h2>Template Training</h2></div>\n",
    "</div>"
   ]
  }
 ],
 "metadata": {
  "kernelspec": {
   "display_name": "Python 3",
   "language": "python",
   "name": "python3"
  },
  "language_info": {
   "codemirror_mode": {
    "name": "ipython",
    "version": 3
   },
   "file_extension": ".py",
   "mimetype": "text/x-python",
   "name": "python",
   "nbconvert_exporter": "python",
   "pygments_lexer": "ipython3",
   "version": "3.7.1"
  }
 },
 "nbformat": 4,
 "nbformat_minor": 2
}
