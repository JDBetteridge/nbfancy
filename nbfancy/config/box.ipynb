{
 "cells": [
  {
   "cell_type": "markdown",
   "metadata": {},
   "source": [
    "DO NOT REMOVE THIS CELL!\n",
    "\n",
    "You can replace the existing template by modifying the next cell. When the notebook is rendered the following will happen:\n",
    "\n",
    "1. The keyword does not need to appear in this template and will be automatically removed, unless specified in `default.cfg`.\n",
    "2. The colour `w3-green` will be substitued with the colour in `default.cfg`.\n",
    "3. The colour `w3-pale-green` will be substituted with the corresponding pale background colour.\n",
    "4. `{index}` is used internally, don't remove it or you will break things.\n",
    "5. The symbol `fa-star` will be substitued with the symbol in `default.cfg`.\n",
    "6. `TITLE` will be substituted with the marked up title which follows the colon after the keyword.\n",
    "7. `BODY` will be substituted with the marked up content of the cell after the first line.\n",
    "\n",
    "In the plain notebook, this markdown would generate the next cell:\n",
    "```markdown\n",
    "## Keyword: TITLE\n",
    "BODY\n",
    "```\n",
    "\n",
    "Note the spacing may not be exactly the same since the `TITLE` and `BODY` will have additional HTML tags added when marked up."
   ]
  },
  {
   "cell_type": "markdown",
   "metadata": {},
   "source": [
    "<div class=\"w3-panel w3-leftbar w3-border-green w3-pale-green w3-padding-small\">\n",
    "    <h3 id=\"{index}\"><i class=\"fa fa-star\"></i> TITLE</h3>\n",
    "    BODY\n",
    "</div>"
   ]
  }
 ],
 "metadata": {
  "kernelspec": {
   "display_name": "Python 3",
   "language": "python",
   "name": "python3"
  },
  "language_info": {
   "codemirror_mode": {
    "name": "ipython",
    "version": 3
   },
   "file_extension": ".py",
   "mimetype": "text/x-python",
   "name": "python",
   "nbconvert_exporter": "python",
   "pygments_lexer": "ipython3",
   "version": "3.7.1"
  }
 },
 "nbformat": 4,
 "nbformat_minor": 2
}
