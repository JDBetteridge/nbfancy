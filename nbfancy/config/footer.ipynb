{
 "cells": [
  {
   "cell_type": "markdown",
   "metadata": {},
   "source": [
    "DO NOT REMOVE THIS CELL!\n",
    "\n",
    "You can replace the existing template by modifying the next cell. When the notebook is rendered the following will happen:\n",
    "\n",
    "1. All the cells below will be inserted at the bottom of all the rendered notebooks, except the index/schedule notebook.\n",
    "2. `{previous}` will be replaced with a link to the previous (ASCII alphabetically) notebook.\n",
    "3. `{index}` will be replaced with a link to the index/schedule notebook (usually `00_schedule.ipynb`).\n",
    "4. `{next}` will be replaced with a link to the next (ASCII alphabetically) notebook, or index/schedule if last."
   ]
  },
  {
   "cell_type": "markdown",
   "metadata": {
    "slideshow": {
     "slide_type": "slide"
    }
   },
   "source": [
    "<div class=\"w3-bar w3-blue-grey\">\n",
    "<a href=\"{previous}\" class=\"w3-left-align w3-bar-item w3-button w3-mobile\" style=\"width:33%\"><h2><i class=\"fa fa-angle-double-left\"></i> Previous</h2></a>\n",
    "<a href=\"{index}\" class=\"w3-bar-item w3-button w3-center w3-mobile\" style=\"width:33%\"><h2>Schedule</h2></a>\n",
    "<a href=\"{next}\" class=\"w3-right-align w3-bar-item w3-button w3-right w3-mobile\" style=\"width:33%\"><h2>Next <i class=\"fa fa-angle-double-right\"></i></h2></a>\n",
    "</div>"
   ]
  }
 ],
 "metadata": {
  "kernelspec": {
   "display_name": "Python 3",
   "language": "python",
   "name": "python3"
  },
  "language_info": {
   "codemirror_mode": {
    "name": "ipython",
    "version": 3
   },
   "file_extension": ".py",
   "mimetype": "text/x-python",
   "name": "python",
   "nbconvert_exporter": "python",
   "pygments_lexer": "ipython3",
   "version": "3.7.3"
  }
 },
 "nbformat": 4,
 "nbformat_minor": 2
}
