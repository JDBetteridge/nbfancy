{
 "cells": [
  {
   "cell_type": "markdown",
   "metadata": {
    "slideshow": {
     "slide_type": "slide"
    }
   },
   "source": [
    "# Features"
   ]
  },
  {
   "cell_type": "markdown",
   "metadata": {
    "slideshow": {
     "slide_type": "slide"
    }
   },
   "source": [
    "## Overview\n",
    "- **Teaching:** 15 min\n",
    "- **Exercises:** 0 min\n",
    "\n",
    "**Questions**\n",
    "- What options are there to enrich lessons?\n",
    "\n",
    "**Objectives**\n",
    "- Know that there are different key words for enriching lessons.\n",
    "- Understand that key words decorate entire cells.\n",
    "- Know that some key words are simple instructions, some e.g. `Information: Vitalstatistix` take arguments.\n",
    "- Know how to use `Exercise` and `Solution`."
   ]
  },
  {
   "cell_type": "markdown",
   "metadata": {
    "slideshow": {
     "slide_type": "slide"
    }
   },
   "source": [
    "## Key words\n",
    "We have already seen some of the key words, `Prerequisites` and `Schedule` in the schedule notebook and `Overview` and `Key Points` in the episodes.  There are an additional three key words that are used to add richness and each unlike those seen up until now require additional 'arguments'."
   ]
  },
  {
   "cell_type": "markdown",
   "metadata": {
    "slideshow": {
     "slide_type": "slide"
    }
   },
   "source": [
    "To highlight specific information before you get to key points you can use:\n",
    "```brainfuck\n",
    "## Information: This is important!\n",
    "Reminder to you, the tutor and students to pay extra attention here.\n",
    "```\n",
    "renders to:"
   ]
  },
  {
   "cell_type": "markdown",
   "metadata": {
    "slideshow": {
     "slide_type": "subslide"
    }
   },
   "source": [
    "## Information: This is important!\n",
    "Reminder to you, the tutor and students to pay extra attention here."
   ]
  },
  {
   "cell_type": "markdown",
   "metadata": {
    "slideshow": {
     "slide_type": "slide"
    }
   },
   "source": [
    "Perhaps you want to a task or comment related to writing(?):\n",
    "```brainfuck\n",
    "## Pen: Take note this is about writing!\n",
    "This could be a written exercise or just bringing attention\n",
    "```\n",
    "renders to:\n"
   ]
  },
  {
   "cell_type": "markdown",
   "metadata": {
    "slideshow": {
     "slide_type": "subslide"
    }
   },
   "source": [
    "## Pen: Take note this is about writing!\n",
    "This could be a written exercise or just bringing attention."
   ]
  },
  {
   "cell_type": "markdown",
   "metadata": {
    "slideshow": {
     "slide_type": "slide"
    }
   },
   "source": [
    "Perhaps you want to pin a task for someone to take note:\n",
    "```brainfuck\n",
    "## Pin: Add em-pha-sis to this point!\n",
    "Reminder to you, the tutor and students to pay extra attention here.\n",
    "```\n",
    "renders to:\n"
   ]
  },
  {
   "cell_type": "markdown",
   "metadata": {
    "slideshow": {
     "slide_type": "subslide"
    }
   },
   "source": [
    "## Pin: Add em-pha-sis to this point!\n",
    "Reminder to you, the tutor and students to pay extra attention here."
   ]
  },
  {
   "cell_type": "markdown",
   "metadata": {
    "slideshow": {
     "slide_type": "slide"
    }
   },
   "source": [
    "If you want to include references within an episode:\n",
    "\n",
    "```brainfuck\n",
    "## References\n",
    "[1] [Software Carpentry](https://software-carpentry.org)\n",
    "```\n",
    "\n",
    "Any references within the episode then need to be kept up-to-date manually."
   ]
  },
  {
   "cell_type": "markdown",
   "metadata": {
    "slideshow": {
     "slide_type": "subslide"
    }
   },
   "source": [
    "## References\n",
    "\n",
    "[1] [Software Carpentry](https://software-carpentry.org)"
   ]
  },
  {
   "cell_type": "markdown",
   "metadata": {
    "slideshow": {
     "slide_type": "slide"
    }
   },
   "source": [
    "## Student tasks and example answers\n",
    "We all know that it is important to give students exercises to reinforce and assess learning.  In the original software carpentry lessons javascript was used to produce fancy drop down `solutions` to `exercises`.  Fortunately for various reasons we do not have this possibility.  Instead we take quite a simple approach:"
   ]
  },
  {
   "cell_type": "markdown",
   "metadata": {
    "slideshow": {
     "slide_type": "slide"
    }
   },
   "source": [
    "Tasks are denoted with:\n",
    "```\n",
    "## Exercise: Can you think on you feet?\n",
    "Simply answer me this, can you think and stand at the same time?\n",
    "```\n",
    "which renders as:"
   ]
  },
  {
   "cell_type": "markdown",
   "metadata": {
    "slideshow": {
     "slide_type": "slide"
    }
   },
   "source": [
    "## Exercise: Can you think on you feet?\n",
    "Simply answer me this, can you think and stand at the same time?"
   ]
  },
  {
   "cell_type": "markdown",
   "metadata": {
    "slideshow": {
     "slide_type": "slide"
    }
   },
   "source": [
    "We create the example with the same 'subtitle'\n",
    "```\n",
    "## Solution: Can you think on you feet?\n",
    "Let me see, I'll have to get up and think about it.\n",
    "```\n",
    "which renders as:"
   ]
  },
  {
   "cell_type": "markdown",
   "metadata": {
    "slideshow": {
     "slide_type": "slide"
    }
   },
   "source": [
    "## Solution: Can you think on you feet?\n",
    "Let me see, I'll have to get up and think about it."
   ]
  },
  {
   "cell_type": "markdown",
   "metadata": {
    "slideshow": {
     "slide_type": "slide"
    }
   },
   "source": [
    "Where did it go?  If it was ever there at all, perhaps in the tutorial I just forgot to add the cell?\n",
    "If you have been observant however or check back at the exercise cell, you will see some additional decoration introduced during the render.  There is a link which if followed takes you to the solutions.  Currently this is enabled by default, but if there is interest there could be an option to turn off the links or introduce dummy pages so that solutions couldbe held back from students for an initial period."
   ]
  },
  {
   "cell_type": "markdown",
   "metadata": {
    "slideshow": {
     "slide_type": "slide"
    }
   },
   "source": [
    "## Exceptions\n",
    "The key words operate very simplistically at the moment.  You may have noted that I did not use `Exercise` or `Solution` in the subtitle, calling the section 'Student Tasks and Example Answers', this is because they would have then triggered the key words, so you have to be careful not to use these features when you don't intend to.  There are a few other *features* that are detailed below, we hope to address them and any others users find as soon as we can."
   ]
  },
  {
   "cell_type": "markdown",
   "metadata": {
    "slideshow": {
     "slide_type": "slide"
    }
   },
   "source": [
    "## Code blocks at end of cells break everything\n",
    "```\n",
    "Code blocks ending cells cause issues to the build system when rendering\n",
    "```"
   ]
  },
  {
   "cell_type": "markdown",
   "metadata": {
    "slideshow": {
     "slide_type": "slide"
    }
   },
   "source": [
    "## Code blocks at end of cells break everything\n",
    "```\n",
    "Code blocks ending cells cause issues to the build system when rendering\n",
    "```\n",
    "But work just fine if you add some additional text."
   ]
  },
  {
   "cell_type": "markdown",
   "metadata": {
    "slideshow": {
     "slide_type": "slide"
    }
   },
   "source": [
    "## Key Points\n",
    "- Different key words decorate the md to enrich content.\n",
    "- `Overview` and `Key Points` help to plan episodes.\n",
    "- Regular `Information` can draw focus.\n",
    "- `Exercise` and `Solution` should be used in pairs with matching tags."
   ]
  }
 ],
 "metadata": {
  "celltoolbar": "Slideshow",
  "kernelspec": {
   "display_name": "Python 3",
   "language": "python",
   "name": "python3"
  },
  "language_info": {
   "codemirror_mode": {
    "name": "ipython",
    "version": 3
   },
   "file_extension": ".py",
   "mimetype": "text/x-python",
   "name": "python",
   "nbconvert_exporter": "python",
   "pygments_lexer": "ipython3",
   "version": "3.6.6"
  }
 },
 "nbformat": 4,
 "nbformat_minor": 2
}
